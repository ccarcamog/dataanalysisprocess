{
 "cells": [
  {
   "cell_type": "markdown",
   "metadata": {
    "slideshow": {
     "slide_type": "slide"
    }
   },
   "source": [
    "# Bay Wheels - An Alternative for Public Transportation\n",
    "## by Carlos Carcamo"
   ]
  },
  {
   "cell_type": "markdown",
   "metadata": {
    "slideshow": {
     "slide_type": "slide"
    }
   },
   "source": [
    "## Investigation Overview\n",
    "\n",
    "Bay Wheels is a regional public bicycle sharing system in the San Francisco Bay Area, California. Is Bay Wheels a real solution? Are people using it for get to work or leisure purposes? Let's see some data that will give a good point to Bay Wheels. In this presentation we will see the realition beetween Trips, Trips Duration, Hours and Day of Week where the Bay Wheels service is used to get people from their homes to their office\n",
    "\n",
    "## Dataset Overview\n",
    "\n",
    "The dataset used for this Investigation consists of data from January 2019 to December 2019. More than 2 Million of trips were gathered to get this insights. The file contains data about Trip Duration, Start and End datetime for each each trip and the Station involve in the trip"
   ]
  },
  {
   "cell_type": "code",
   "execution_count": 1,
   "metadata": {
    "slideshow": {
     "slide_type": "skip"
    }
   },
   "outputs": [],
   "source": [
    "# import all packages and set plots to be embedded inline\n",
    "import numpy as np\n",
    "import pandas as pd\n",
    "import matplotlib.pyplot as plt\n",
    "import seaborn as sb\n",
    "\n",
    "%matplotlib inline\n",
    "\n",
    "# suppress warnings from final output\n",
    "import warnings\n",
    "warnings.simplefilter(\"ignore\")"
   ]
  },
  {
   "cell_type": "code",
   "execution_count": 30,
   "metadata": {
    "slideshow": {
     "slide_type": "skip"
    }
   },
   "outputs": [
    {
     "data": {
      "text/html": [
       "<div>\n",
       "<style scoped>\n",
       "    .dataframe tbody tr th:only-of-type {\n",
       "        vertical-align: middle;\n",
       "    }\n",
       "\n",
       "    .dataframe tbody tr th {\n",
       "        vertical-align: top;\n",
       "    }\n",
       "\n",
       "    .dataframe thead th {\n",
       "        text-align: right;\n",
       "    }\n",
       "</style>\n",
       "<table border=\"1\" class=\"dataframe\">\n",
       "  <thead>\n",
       "    <tr style=\"text-align: right;\">\n",
       "      <th></th>\n",
       "      <th>duration_sec</th>\n",
       "      <th>start_time</th>\n",
       "      <th>end_time</th>\n",
       "      <th>start_station_id</th>\n",
       "      <th>start_station_name</th>\n",
       "      <th>start_station_latitude</th>\n",
       "      <th>start_station_longitude</th>\n",
       "      <th>end_station_id</th>\n",
       "      <th>end_station_name</th>\n",
       "      <th>end_station_latitude</th>\n",
       "      <th>end_station_longitude</th>\n",
       "      <th>user_type</th>\n",
       "      <th>start_time_dayofweek</th>\n",
       "      <th>start_time_month_name</th>\n",
       "      <th>start_time_hour</th>\n",
       "      <th>trips</th>\n",
       "    </tr>\n",
       "  </thead>\n",
       "  <tbody>\n",
       "    <tr>\n",
       "      <th>6</th>\n",
       "      <td>1188</td>\n",
       "      <td>2019-01-31 23:54:38.901</td>\n",
       "      <td>2019-02-01 00:14:27.900</td>\n",
       "      <td>34.0</td>\n",
       "      <td>Father Alfred E Boeddeker Park</td>\n",
       "      <td>37.783988</td>\n",
       "      <td>-122.412408</td>\n",
       "      <td>146.0</td>\n",
       "      <td>30th St at San Jose Ave</td>\n",
       "      <td>37.742314</td>\n",
       "      <td>-122.423181</td>\n",
       "      <td>Subscriber</td>\n",
       "      <td>Thursday</td>\n",
       "      <td>January</td>\n",
       "      <td>23</td>\n",
       "      <td>1</td>\n",
       "    </tr>\n",
       "    <tr>\n",
       "      <th>7</th>\n",
       "      <td>1254</td>\n",
       "      <td>2019-01-31 23:48:50.092</td>\n",
       "      <td>2019-02-01 00:09:44.497</td>\n",
       "      <td>318.0</td>\n",
       "      <td>San Carlos St at Market St</td>\n",
       "      <td>37.330698</td>\n",
       "      <td>-121.888979</td>\n",
       "      <td>314.0</td>\n",
       "      <td>Santa Clara St at Almaden Blvd</td>\n",
       "      <td>37.333988</td>\n",
       "      <td>-121.894902</td>\n",
       "      <td>Subscriber</td>\n",
       "      <td>Thursday</td>\n",
       "      <td>January</td>\n",
       "      <td>23</td>\n",
       "      <td>1</td>\n",
       "    </tr>\n",
       "    <tr>\n",
       "      <th>9</th>\n",
       "      <td>323</td>\n",
       "      <td>2019-01-31 23:59:47.568</td>\n",
       "      <td>2019-02-01 00:05:11.177</td>\n",
       "      <td>223.0</td>\n",
       "      <td>16th St Mission BART Station 2</td>\n",
       "      <td>37.764765</td>\n",
       "      <td>-122.420091</td>\n",
       "      <td>129.0</td>\n",
       "      <td>Harrison St at 20th St</td>\n",
       "      <td>37.758862</td>\n",
       "      <td>-122.412544</td>\n",
       "      <td>Subscriber</td>\n",
       "      <td>Thursday</td>\n",
       "      <td>January</td>\n",
       "      <td>23</td>\n",
       "      <td>1</td>\n",
       "    </tr>\n",
       "    <tr>\n",
       "      <th>10</th>\n",
       "      <td>2316</td>\n",
       "      <td>2019-01-31 23:25:59.866</td>\n",
       "      <td>2019-02-01 00:04:36.064</td>\n",
       "      <td>378.0</td>\n",
       "      <td>Empire St at 7th St</td>\n",
       "      <td>37.347745</td>\n",
       "      <td>-121.890800</td>\n",
       "      <td>292.0</td>\n",
       "      <td>Empire St at 1st St</td>\n",
       "      <td>37.344882</td>\n",
       "      <td>-121.896965</td>\n",
       "      <td>Subscriber</td>\n",
       "      <td>Thursday</td>\n",
       "      <td>January</td>\n",
       "      <td>23</td>\n",
       "      <td>1</td>\n",
       "    </tr>\n",
       "    <tr>\n",
       "      <th>11</th>\n",
       "      <td>433</td>\n",
       "      <td>2019-01-31 23:57:04.381</td>\n",
       "      <td>2019-02-01 00:04:17.489</td>\n",
       "      <td>266.0</td>\n",
       "      <td>Parker St at Fulton St</td>\n",
       "      <td>37.862464</td>\n",
       "      <td>-122.264791</td>\n",
       "      <td>256.0</td>\n",
       "      <td>Hearst Ave at Euclid Ave</td>\n",
       "      <td>37.875112</td>\n",
       "      <td>-122.260553</td>\n",
       "      <td>Subscriber</td>\n",
       "      <td>Thursday</td>\n",
       "      <td>January</td>\n",
       "      <td>23</td>\n",
       "      <td>1</td>\n",
       "    </tr>\n",
       "  </tbody>\n",
       "</table>\n",
       "</div>"
      ],
      "text/plain": [
       "    duration_sec               start_time                 end_time  \\\n",
       "6           1188  2019-01-31 23:54:38.901  2019-02-01 00:14:27.900   \n",
       "7           1254  2019-01-31 23:48:50.092  2019-02-01 00:09:44.497   \n",
       "9            323  2019-01-31 23:59:47.568  2019-02-01 00:05:11.177   \n",
       "10          2316  2019-01-31 23:25:59.866  2019-02-01 00:04:36.064   \n",
       "11           433  2019-01-31 23:57:04.381  2019-02-01 00:04:17.489   \n",
       "\n",
       "    start_station_id              start_station_name  start_station_latitude  \\\n",
       "6               34.0  Father Alfred E Boeddeker Park               37.783988   \n",
       "7              318.0      San Carlos St at Market St               37.330698   \n",
       "9              223.0  16th St Mission BART Station 2               37.764765   \n",
       "10             378.0             Empire St at 7th St               37.347745   \n",
       "11             266.0          Parker St at Fulton St               37.862464   \n",
       "\n",
       "    start_station_longitude  end_station_id                end_station_name  \\\n",
       "6               -122.412408           146.0         30th St at San Jose Ave   \n",
       "7               -121.888979           314.0  Santa Clara St at Almaden Blvd   \n",
       "9               -122.420091           129.0          Harrison St at 20th St   \n",
       "10              -121.890800           292.0             Empire St at 1st St   \n",
       "11              -122.264791           256.0        Hearst Ave at Euclid Ave   \n",
       "\n",
       "    end_station_latitude  end_station_longitude   user_type  \\\n",
       "6              37.742314            -122.423181  Subscriber   \n",
       "7              37.333988            -121.894902  Subscriber   \n",
       "9              37.758862            -122.412544  Subscriber   \n",
       "10             37.344882            -121.896965  Subscriber   \n",
       "11             37.875112            -122.260553  Subscriber   \n",
       "\n",
       "   start_time_dayofweek start_time_month_name  start_time_hour  trips  \n",
       "6              Thursday               January               23      1  \n",
       "7              Thursday               January               23      1  \n",
       "9              Thursday               January               23      1  \n",
       "10             Thursday               January               23      1  \n",
       "11             Thursday               January               23      1  "
      ]
     },
     "execution_count": 30,
     "metadata": {},
     "output_type": "execute_result"
    }
   ],
   "source": [
    "# load in the dataset into a pandas dataframe\n",
    "df = pd.read_csv('2019-baywheels-tripdata-wrangled.csv')\n",
    "\n",
    "#Filter trips with duration less or equal to 45 minutes\n",
    "df_45m = df.query('duration_sec<=2700')\n",
    "df = df_45m\n",
    "\n",
    "#Transform Days of Week into a Category\n",
    "days_order = ['Monday', 'Tuesday', 'Wednesday', 'Thursday', 'Friday' , 'Saturday', 'Sunday']\n",
    "cat_dtype = pd.api.types.CategoricalDtype(categories=days_order, ordered=True)\n",
    "df['start_time_dayofweek'] = df['start_time_dayofweek'].astype(cat_dtype)\n",
    "\n",
    "#Transfom Months into a Category\n",
    "months = ['January','February','March','April','May','June','July','August','September','October','November','December']\n",
    "cat_dtype = pd.api.types.CategoricalDtype(categories=months, ordered=True)\n",
    "df['start_time_month_name'] = df['start_time_month_name'].astype(cat_dtype)\n",
    "df.head()"
   ]
  },
  {
   "cell_type": "code",
   "execution_count": 13,
   "metadata": {
    "slideshow": {
     "slide_type": "skip"
    }
   },
   "outputs": [
    {
     "data": {
      "text/plain": [
       "(2361298, 16)"
      ]
     },
     "execution_count": 13,
     "metadata": {},
     "output_type": "execute_result"
    }
   ],
   "source": [
    "df.shape"
   ]
  },
  {
   "cell_type": "markdown",
   "metadata": {
    "slideshow": {
     "slide_type": "slide"
    }
   },
   "source": [
    "## Long or Short bike trips?\n",
    "\n",
    "Let's start digging into the data. And try to discover how the trip durations are distributed. The trip duration seems to be distributed between 100 and 3000 seconds, having the strongest distribution between 300 and 1000 seconds (around 5 and 17 minutes). The mean time duration is 667 seconds (11.11 minutes). So this is leading us to the idea that peope preferd short trips. So, are people using it for get to work or leisure purposes? "
   ]
  },
  {
   "cell_type": "code",
   "execution_count": 31,
   "metadata": {
    "slideshow": {
     "slide_type": "subslide"
    }
   },
   "outputs": [
    {
     "data": {
      "image/png": "[encoded data removed]",
      "text/plain": [
       "<Figure size 576x360 with 1 Axes>"
      ]
     },
     "metadata": {
      "needs_background": "light"
     },
     "output_type": "display_data"
    }
   ],
   "source": [
    "#Import lib to customize legend\n",
    "import matplotlib.patches as mpatches\n",
    "\n",
    "#Get mean duration again\n",
    "mean_duration = df.duration_sec.mean()\n",
    "\n",
    "#Define bins for log scale\n",
    "bin_edges = 10 ** np.arange(np.log10(df.duration_sec.min()), np.log10(df.duration_sec.max()) + 0.1, 0.1)\n",
    "\n",
    "#Define ticks to show on chart\n",
    "ticks = [30,100,300,1000,3000,10000,30000,100000]\n",
    "\n",
    "#Plot the chart\n",
    "plt.figure(figsize=[8, 5]);\n",
    "plt.hist(data = df, x ='duration_sec', bins = bin_edges, color='#27496d');\n",
    "plt.xscale(\"log\");\n",
    "plt.xticks(ticks,ticks);\n",
    "plt.axvline(mean_duration, color = '#f97306', lw=2.5);\n",
    "plt.title('Duration Trip Distribution')\n",
    "plt.xlabel('Trip Duration (secs)');\n",
    "plt.ylabel('Trips');\n",
    "legend = mpatches.Patch(color='#f97306', label='Mean Trip Duration (secs)')\n",
    "plt.legend(handles=[legend]);"
   ]
  },
  {
   "cell_type": "markdown",
   "metadata": {
    "collapsed": true,
    "slideshow": {
     "slide_type": "slide"
    }
   },
   "source": [
    "## When is the best time to ride a bike?\n",
    "\n",
    "Now, let's see in which days Bay Wheels have the highest demand of service. The following heat map shows us that weekdays have more activity than weekends. We can see 2 rush hours for the service in the weekdays, the fisrt one between 7 and 9 am. and the second one between 4 and 6 pm. This can be interpretated as people use the service to move from their homes to office in the morning (between 7 and 9 am) and from their offices to ther homes in the afternoom (between 4 and 6 pm), as the highest demand for the service occurs at the begining and at the end of the work journal."
   ]
  },
  {
   "cell_type": "code",
   "execution_count": 40,
   "metadata": {
    "slideshow": {
     "slide_type": "subslide"
    }
   },
   "outputs": [
    {
     "data": {
      "image/png": "[encoded data removed]",
      "text/plain": [
       "<Figure size 576x360 with 2 Axes>"
      ]
     },
     "metadata": {
      "needs_background": "light"
     },
     "output_type": "display_data"
    }
   ],
   "source": [
    "#Get trip by Day and Hour\n",
    "ct_counts = df.groupby(['start_time_dayofweek', 'start_time_hour']).size()\n",
    "ct_counts = ct_counts.reset_index(name='count')\n",
    "ct_counts = ct_counts.pivot(index = 'start_time_dayofweek', columns = 'start_time_hour', values = 'count')\n",
    "\n",
    "#Plot the chart\n",
    "plt.figure(figsize=[8, 5]);\n",
    "\n",
    "sb.heatmap(ct_counts, cmap='YlGnBu');\n",
    "plt.title('Trips by Day and Hour')\n",
    "plt.xlabel('Start Trip Hour');\n",
    "plt.ylabel('Start Trip Day');"
   ]
  },
  {
   "cell_type": "markdown",
   "metadata": {
    "slideshow": {
     "slide_type": "slide"
    }
   },
   "source": [
    "## How long is a trip by day and hour?\n",
    "\n",
    "Let's to reinforce the idea of San Franciscans use Bay Wheels as a transportation for their works. This chart shows mean duration os trips per day per hour. The longer trips are rode on weekends, when people don't have a deadline hour to be present at the office. Also, something really intersting appeared at 8am for weekdays, the mean duration seems to be the same as the mean duration for the entire dataset, around 670secs. This can lead to say than people tend to go to work between 8 and 9 am.\n"
   ]
  },
  {
   "cell_type": "code",
   "execution_count": 43,
   "metadata": {
    "scrolled": true,
    "slideshow": {
     "slide_type": "subslide"
    }
   },
   "outputs": [
    {
     "data": {
      "image/png": "[encoded data removed]",
      "text/plain": [
       "<Figure size 576x360 with 2 Axes>"
      ]
     },
     "metadata": {
      "needs_background": "light"
     },
     "output_type": "display_data"
    }
   ],
   "source": [
    "#Get trip duration mean by day and hour\n",
    "ct_counts = df.groupby(['start_time_dayofweek', 'start_time_hour'])['duration_sec'].mean()\n",
    "ct_counts = ct_counts.reset_index(name='mean')\n",
    "ct_counts = ct_counts.pivot(index = 'start_time_dayofweek', columns = 'start_time_hour', values = 'mean')\n",
    "\n",
    "#Plot the chart\n",
    "plt.figure(figsize=[8, 5]);\n",
    "sb.heatmap(ct_counts, cmap='YlGnBu');\n",
    "plt.title('Trips Duration by Day and Hour')\n",
    "plt.xlabel('Start Trip Hour');\n",
    "plt.ylabel('Start Trip Day');"
   ]
  },
  {
   "cell_type": "markdown",
   "metadata": {
    "slideshow": {
     "slide_type": "slide"
    }
   },
   "source": [
    "## Trips by time for 2019\n",
    "\n",
    "To conclude the analysis, let's see distribution of trips per month for 2019. This chart finishes answer the question *Are people using Bay Wheels for get to work or leisure purposes?*. People used to rest for spring and summer. In these seasons, a lot of people use to travel, leaving the city (even the country) and obviously stop working for a couple of days. The same thing happens for November and December, to Thanksgiving and Christmas."
   ]
  },
  {
   "cell_type": "code",
   "execution_count": 45,
   "metadata": {
    "slideshow": {
     "slide_type": "subslide"
    }
   },
   "outputs": [
    {
     "data": {
      "image/png": "[encoded data removed]",
      "text/plain": [
       "<Figure size 576x360 with 1 Axes>"
      ]
     },
     "metadata": {
      "needs_background": "light"
     },
     "output_type": "display_data"
    }
   ],
   "source": [
    "#Get total trips per month\n",
    "df_months = df.groupby('start_time_month_name')['trips'].sum()\n",
    "#Plot the chart\n",
    "plt.figure(figsize=[8, 5]);\n",
    "plt.plot(df_months.index, df_months);\n",
    "plt.xticks(rotation=30);\n",
    "plt.title('Trips Time series by Month')\n",
    "plt.xlabel('Month');\n",
    "plt.ylabel('Trips');"
   ]
  },
  {
   "cell_type": "markdown",
   "metadata": {
    "slideshow": {
     "slide_type": "skip"
    }
   },
   "source": [
    "> Once you're ready to finish your presentation, check your output by using\n",
    "nbconvert to export the notebook and set up a server for the slides. From the\n",
    "terminal or command line, use the following expression:\n",
    "> > `jupyter nbconvert <file_name>.ipynb --to slides --post serve --template output_toggle`\n",
    "\n",
    "> This should open a tab in your web browser where you can scroll through your\n",
    "presentation. Sub-slides can be accessed by pressing 'down' when viewing its parent\n",
    "slide. Make sure you remove all of the quote-formatted guide notes like this one\n",
    "before you finish your presentation!"
   ]
  },
  {
   "cell_type": "code",
   "execution_count": null,
   "metadata": {},
   "outputs": [],
   "source": []
  }
 ],
 "metadata": {
  "celltoolbar": "Slideshow",
  "kernelspec": {
   "display_name": "Python 3",
   "language": "python",
   "name": "python3"
  },
  "language_info": {
   "codemirror_mode": {
    "name": "ipython",
    "version": 3
   },
   "file_extension": ".py",
   "mimetype": "text/x-python",
   "name": "python",
   "nbconvert_exporter": "python",
   "pygments_lexer": "ipython3",
   "version": "3.7.7"
  }
 },
 "nbformat": 4,
 "nbformat_minor": 2
}

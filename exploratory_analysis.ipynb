{
 "cells": [
  {
   "cell_type": "markdown",
   "metadata": {},
   "source": [
    "# Bay Wheels System Data Analysis\n",
    "## by Carlos Carcamo\n",
    "\n",
    "## Preliminary Wrangling\n",
    "\n",
    "> [Bay Wheels](https://www.lyft.com/bikes/bay-wheels) is a regional public bicycle sharing system in the San Francisco Bay Area, California operated by Motivate in a partnership with the Metropolitan Transportation Commission and the Bay Area Air Quality Management District. As of January 2018, the Bay Wheels system had over 2,600 bicycles in 262 stations across San Francisco, East Bay and San Jose. On June 28, 2017, the system officially re-launched as Ford GoBike in a partnership with Ford Motor Company.\n",
    "<br><br>\n",
    "The dataset used for this exploratory analysis consists of monthly individual trip data from **January 2019** to **December 2019.** Visualizations below are created from wrangled and cleaned data to facilitate exploration analysis and help discover usage pattern and rider characteristics. If you need to extract the whole data for Bay Wheels System, you can get it [here.](https://s3.amazonaws.com/baywheels-data/index.html)"
   ]
  },
  {
   "cell_type": "code",
   "execution_count": 1,
   "metadata": {},
   "outputs": [],
   "source": [
    "# import all packages and set plots to be embedded inline\n",
    "import numpy as np\n",
    "import pandas as pd\n",
    "import matplotlib.pyplot as plt\n",
    "import seaborn as sb\n",
    "\n",
    "%matplotlib inline"
   ]
  },
  {
   "cell_type": "markdown",
   "metadata": {},
   "source": [
    "### Gathering Data\n",
    "In the project folder, I have placed the 12 files for each month of 2019 with bike trips data. As all the files have the same structure I will gather all of them into one and only file for entire 2019:"
   ]
  },
  {
   "cell_type": "code",
   "execution_count": 13,
   "metadata": {},
   "outputs": [
    {
     "data": {
      "text/html": [
       "<div>\n",
       "<style scoped>\n",
       "    .dataframe tbody tr th:only-of-type {\n",
       "        vertical-align: middle;\n",
       "    }\n",
       "\n",
       "    .dataframe tbody tr th {\n",
       "        vertical-align: top;\n",
       "    }\n",
       "\n",
       "    .dataframe thead th {\n",
       "        text-align: right;\n",
       "    }\n",
       "</style>\n",
       "<table border=\"1\" class=\"dataframe\">\n",
       "  <thead>\n",
       "    <tr style=\"text-align: right;\">\n",
       "      <th></th>\n",
       "      <th>duration_sec</th>\n",
       "      <th>start_time</th>\n",
       "      <th>end_time</th>\n",
       "      <th>start_station_id</th>\n",
       "      <th>start_station_name</th>\n",
       "      <th>start_station_latitude</th>\n",
       "      <th>start_station_longitude</th>\n",
       "      <th>end_station_id</th>\n",
       "      <th>end_station_name</th>\n",
       "      <th>end_station_latitude</th>\n",
       "      <th>end_station_longitude</th>\n",
       "      <th>bike_id</th>\n",
       "      <th>user_type</th>\n",
       "      <th>bike_share_for_all_trip</th>\n",
       "    </tr>\n",
       "  </thead>\n",
       "  <tbody>\n",
       "    <tr>\n",
       "      <th>192077</th>\n",
       "      <td>390</td>\n",
       "      <td>2019-01-01 00:16:36.8450</td>\n",
       "      <td>2019-01-01 00:23:07.2530</td>\n",
       "      <td>109.0</td>\n",
       "      <td>17th St at Valencia St</td>\n",
       "      <td>37.763316</td>\n",
       "      <td>-122.421904</td>\n",
       "      <td>141.0</td>\n",
       "      <td>Valencia St at Cesar Chavez St</td>\n",
       "      <td>37.747998</td>\n",
       "      <td>-122.420219</td>\n",
       "      <td>5059</td>\n",
       "      <td>Subscriber</td>\n",
       "      <td>No</td>\n",
       "    </tr>\n",
       "    <tr>\n",
       "      <th>192078</th>\n",
       "      <td>227</td>\n",
       "      <td>2019-01-01 00:17:40.9750</td>\n",
       "      <td>2019-01-01 00:21:28.4180</td>\n",
       "      <td>73.0</td>\n",
       "      <td>Pierce St at Haight St</td>\n",
       "      <td>37.771793</td>\n",
       "      <td>-122.433708</td>\n",
       "      <td>96.0</td>\n",
       "      <td>Dolores St at 15th St</td>\n",
       "      <td>37.766210</td>\n",
       "      <td>-122.426614</td>\n",
       "      <td>4659</td>\n",
       "      <td>Subscriber</td>\n",
       "      <td>No</td>\n",
       "    </tr>\n",
       "    <tr>\n",
       "      <th>192079</th>\n",
       "      <td>565</td>\n",
       "      <td>2019-01-01 00:11:03.4410</td>\n",
       "      <td>2019-01-01 00:20:29.2680</td>\n",
       "      <td>269.0</td>\n",
       "      <td>Telegraph Ave at Carleton St</td>\n",
       "      <td>37.862320</td>\n",
       "      <td>-122.258801</td>\n",
       "      <td>243.0</td>\n",
       "      <td>Bancroft Way at College Ave</td>\n",
       "      <td>37.869360</td>\n",
       "      <td>-122.254337</td>\n",
       "      <td>4783</td>\n",
       "      <td>Subscriber</td>\n",
       "      <td>Yes</td>\n",
       "    </tr>\n",
       "    <tr>\n",
       "      <th>192080</th>\n",
       "      <td>182</td>\n",
       "      <td>2019-01-01 00:09:56.2110</td>\n",
       "      <td>2019-01-01 00:12:58.7480</td>\n",
       "      <td>269.0</td>\n",
       "      <td>Telegraph Ave at Carleton St</td>\n",
       "      <td>37.862320</td>\n",
       "      <td>-122.258801</td>\n",
       "      <td>240.0</td>\n",
       "      <td>Haste St at Telegraph Ave</td>\n",
       "      <td>37.866043</td>\n",
       "      <td>-122.258804</td>\n",
       "      <td>4621</td>\n",
       "      <td>Subscriber</td>\n",
       "      <td>Yes</td>\n",
       "    </tr>\n",
       "    <tr>\n",
       "      <th>192081</th>\n",
       "      <td>226</td>\n",
       "      <td>2019-01-01 00:07:10.5760</td>\n",
       "      <td>2019-01-01 00:10:57.1960</td>\n",
       "      <td>245.0</td>\n",
       "      <td>Downtown Berkeley BART</td>\n",
       "      <td>37.870139</td>\n",
       "      <td>-122.268422</td>\n",
       "      <td>247.0</td>\n",
       "      <td>Fulton St at Bancroft Way</td>\n",
       "      <td>37.867789</td>\n",
       "      <td>-122.265896</td>\n",
       "      <td>5117</td>\n",
       "      <td>Customer</td>\n",
       "      <td>No</td>\n",
       "    </tr>\n",
       "  </tbody>\n",
       "</table>\n",
       "</div>"
      ],
      "text/plain": [
       "        duration_sec                start_time                  end_time  \\\n",
       "192077           390  2019-01-01 00:16:36.8450  2019-01-01 00:23:07.2530   \n",
       "192078           227  2019-01-01 00:17:40.9750  2019-01-01 00:21:28.4180   \n",
       "192079           565  2019-01-01 00:11:03.4410  2019-01-01 00:20:29.2680   \n",
       "192080           182  2019-01-01 00:09:56.2110  2019-01-01 00:12:58.7480   \n",
       "192081           226  2019-01-01 00:07:10.5760  2019-01-01 00:10:57.1960   \n",
       "\n",
       "        start_station_id            start_station_name  \\\n",
       "192077             109.0        17th St at Valencia St   \n",
       "192078              73.0        Pierce St at Haight St   \n",
       "192079             269.0  Telegraph Ave at Carleton St   \n",
       "192080             269.0  Telegraph Ave at Carleton St   \n",
       "192081             245.0        Downtown Berkeley BART   \n",
       "\n",
       "        start_station_latitude  start_station_longitude  end_station_id  \\\n",
       "192077               37.763316              -122.421904           141.0   \n",
       "192078               37.771793              -122.433708            96.0   \n",
       "192079               37.862320              -122.258801           243.0   \n",
       "192080               37.862320              -122.258801           240.0   \n",
       "192081               37.870139              -122.268422           247.0   \n",
       "\n",
       "                      end_station_name  end_station_latitude  \\\n",
       "192077  Valencia St at Cesar Chavez St             37.747998   \n",
       "192078           Dolores St at 15th St             37.766210   \n",
       "192079     Bancroft Way at College Ave             37.869360   \n",
       "192080       Haste St at Telegraph Ave             37.866043   \n",
       "192081       Fulton St at Bancroft Way             37.867789   \n",
       "\n",
       "        end_station_longitude  bike_id   user_type bike_share_for_all_trip  \n",
       "192077            -122.420219     5059  Subscriber                      No  \n",
       "192078            -122.426614     4659  Subscriber                      No  \n",
       "192079            -122.254337     4783  Subscriber                     Yes  \n",
       "192080            -122.258804     4621  Subscriber                     Yes  \n",
       "192081            -122.265896     5117    Customer                      No  "
      ]
     },
     "execution_count": 13,
     "metadata": {},
     "output_type": "execute_result"
    }
   ],
   "source": [
    "#Check data\n",
    "df_01 = pd.read_csv('201901-fordgobike-tripdata.csv') #first month file\n",
    "df_01.tail()"
   ]
  },
  {
   "cell_type": "code",
   "execution_count": 22,
   "metadata": {},
   "outputs": [
    {
     "name": "stdout",
     "output_type": "stream",
     "text": [
      "192082\n",
      "file 2: 183412\n",
      "file 3: 256299\n",
      "file 4: 239111\n",
      "file 5: 182163\n",
      "file 6: 191772\n",
      "file 7: 258102\n",
      "file 8: 210563\n",
      "file 9: 217986\n",
      "file 10: 239895\n",
      "file 11: 185496\n",
      "file 12: 150102\n",
      "2506983 2506983\n"
     ]
    }
   ],
   "source": [
    "df_2019 = df_01\n",
    "rows = df_01.shape[0]\n",
    "print(rows)\n",
    "for i in range(2,13):\n",
    "    file = '2019'\n",
    "    #Get number of month, as is shown on file name\n",
    "    if i < 10:\n",
    "        file = file + '0' + str(i)\n",
    "    else:\n",
    "        file = file + str(i)\n",
    "    #There was a change on file names en May\n",
    "    if i < 5 :\n",
    "        file = file + '-fordgobike-tripdata.csv'\n",
    "    else:\n",
    "        file = file + '-baywheels-tripdata.csv'\n",
    "    #Create dataframe\n",
    "    df = pd.read_csv(file)\n",
    "    print('file ' + str(i) + ': ' + str(df.shape[0]))\n",
    "    #Update caoun of rows, just for control\n",
    "    rows = rows + df.shape[0]\n",
    "    #Append monthly df with yearly df\n",
    "    df_2019 = df_2019.append(df,ignore_index=True)\n",
    "print(rows, df_2019.shape[0])        "
   ]
  },
  {
   "cell_type": "markdown",
   "metadata": {},
   "source": [
    "Before continue with the Wrangling Process, I will store my new dataset on a new file:"
   ]
  },
  {
   "cell_type": "code",
   "execution_count": 24,
   "metadata": {},
   "outputs": [],
   "source": [
    "df_2019.to_csv('2019-baywheels-tripdata.csv',index=False)"
   ]
  },
  {
   "cell_type": "markdown",
   "metadata": {},
   "source": [
    "Now, with the unified file, I will proceed with Assesment and Cleaning.\n",
    "\n",
    "### Assessing Data\n",
    "\n",
    "I will make some checks on my annual dataframe to find inconsistencies or issues. At the end of this section, you will find the summary of all the quality and tidiness issues found."
   ]
  },
  {
   "cell_type": "code",
   "execution_count": 27,
   "metadata": {},
   "outputs": [
    {
     "data": {
      "text/html": [
       "<div>\n",
       "<style scoped>\n",
       "    .dataframe tbody tr th:only-of-type {\n",
       "        vertical-align: middle;\n",
       "    }\n",
       "\n",
       "    .dataframe tbody tr th {\n",
       "        vertical-align: top;\n",
       "    }\n",
       "\n",
       "    .dataframe thead th {\n",
       "        text-align: right;\n",
       "    }\n",
       "</style>\n",
       "<table border=\"1\" class=\"dataframe\">\n",
       "  <thead>\n",
       "    <tr style=\"text-align: right;\">\n",
       "      <th></th>\n",
       "      <th>duration_sec</th>\n",
       "      <th>start_time</th>\n",
       "      <th>end_time</th>\n",
       "      <th>start_station_id</th>\n",
       "      <th>start_station_name</th>\n",
       "      <th>start_station_latitude</th>\n",
       "      <th>start_station_longitude</th>\n",
       "      <th>end_station_id</th>\n",
       "      <th>end_station_name</th>\n",
       "      <th>end_station_latitude</th>\n",
       "      <th>end_station_longitude</th>\n",
       "      <th>bike_id</th>\n",
       "      <th>user_type</th>\n",
       "      <th>bike_share_for_all_trip</th>\n",
       "      <th>rental_access_method</th>\n",
       "    </tr>\n",
       "  </thead>\n",
       "  <tbody>\n",
       "    <tr>\n",
       "      <th>985065</th>\n",
       "      <td>1324</td>\n",
       "      <td>2019-05-11 14:17:28.8680</td>\n",
       "      <td>2019-05-11 14:39:33.1450</td>\n",
       "      <td>10.0</td>\n",
       "      <td>Washington St at Kearny St</td>\n",
       "      <td>37.795393</td>\n",
       "      <td>-122.404770</td>\n",
       "      <td>5.0</td>\n",
       "      <td>Powell St BART Station (Market St at 5th St)</td>\n",
       "      <td>37.783899</td>\n",
       "      <td>-122.408445</td>\n",
       "      <td>1416</td>\n",
       "      <td>Customer</td>\n",
       "      <td>No</td>\n",
       "      <td>NaN</td>\n",
       "    </tr>\n",
       "    <tr>\n",
       "      <th>826853</th>\n",
       "      <td>285</td>\n",
       "      <td>2019-04-05 13:33:35.5210</td>\n",
       "      <td>2019-04-05 13:38:20.5700</td>\n",
       "      <td>86.0</td>\n",
       "      <td>Market St at Dolores St</td>\n",
       "      <td>37.769305</td>\n",
       "      <td>-122.426826</td>\n",
       "      <td>119.0</td>\n",
       "      <td>18th St at Noe St</td>\n",
       "      <td>37.761047</td>\n",
       "      <td>-122.432642</td>\n",
       "      <td>5550</td>\n",
       "      <td>Subscriber</td>\n",
       "      <td>No</td>\n",
       "      <td>NaN</td>\n",
       "    </tr>\n",
       "    <tr>\n",
       "      <th>2109522</th>\n",
       "      <td>417</td>\n",
       "      <td>2019-10-08 18:32:08.8850</td>\n",
       "      <td>2019-10-08 18:39:06.0800</td>\n",
       "      <td>109.0</td>\n",
       "      <td>17th St at Valencia St</td>\n",
       "      <td>37.763316</td>\n",
       "      <td>-122.421904</td>\n",
       "      <td>381.0</td>\n",
       "      <td>20th St at Dolores St</td>\n",
       "      <td>37.758238</td>\n",
       "      <td>-122.426094</td>\n",
       "      <td>12001</td>\n",
       "      <td>Subscriber</td>\n",
       "      <td>No</td>\n",
       "      <td>NaN</td>\n",
       "    </tr>\n",
       "    <tr>\n",
       "      <th>1226725</th>\n",
       "      <td>347</td>\n",
       "      <td>2019-06-03 20:09:28.9440</td>\n",
       "      <td>2019-06-03 20:15:16.3550</td>\n",
       "      <td>37.0</td>\n",
       "      <td>2nd St at Folsom St</td>\n",
       "      <td>37.785377</td>\n",
       "      <td>-122.396906</td>\n",
       "      <td>81.0</td>\n",
       "      <td>Berry St at 4th St</td>\n",
       "      <td>37.775880</td>\n",
       "      <td>-122.393170</td>\n",
       "      <td>2039</td>\n",
       "      <td>Subscriber</td>\n",
       "      <td>No</td>\n",
       "      <td>NaN</td>\n",
       "    </tr>\n",
       "    <tr>\n",
       "      <th>936469</th>\n",
       "      <td>205</td>\n",
       "      <td>2019-05-21 06:52:01.9790</td>\n",
       "      <td>2019-05-21 06:55:27.1350</td>\n",
       "      <td>131.0</td>\n",
       "      <td>22nd St at Dolores St</td>\n",
       "      <td>37.755000</td>\n",
       "      <td>-122.425728</td>\n",
       "      <td>386.0</td>\n",
       "      <td>24th St at Bartlett St</td>\n",
       "      <td>37.752105</td>\n",
       "      <td>-122.419724</td>\n",
       "      <td>3129</td>\n",
       "      <td>Subscriber</td>\n",
       "      <td>No</td>\n",
       "      <td>NaN</td>\n",
       "    </tr>\n",
       "    <tr>\n",
       "      <th>234132</th>\n",
       "      <td>788</td>\n",
       "      <td>2019-02-22 17:49:25.4970</td>\n",
       "      <td>2019-02-22 18:02:33.5960</td>\n",
       "      <td>81.0</td>\n",
       "      <td>Berry St at 4th St</td>\n",
       "      <td>37.775880</td>\n",
       "      <td>-122.393170</td>\n",
       "      <td>355.0</td>\n",
       "      <td>23rd St at Tennessee St</td>\n",
       "      <td>37.755367</td>\n",
       "      <td>-122.388795</td>\n",
       "      <td>6533</td>\n",
       "      <td>Customer</td>\n",
       "      <td>No</td>\n",
       "      <td>NaN</td>\n",
       "    </tr>\n",
       "    <tr>\n",
       "      <th>1299113</th>\n",
       "      <td>1655</td>\n",
       "      <td>2019-07-21 16:26:31.4920</td>\n",
       "      <td>2019-07-21 16:54:06.9190</td>\n",
       "      <td>64.0</td>\n",
       "      <td>5th St at Brannan St</td>\n",
       "      <td>37.776754</td>\n",
       "      <td>-122.399018</td>\n",
       "      <td>381.0</td>\n",
       "      <td>20th St at Dolores St</td>\n",
       "      <td>37.758238</td>\n",
       "      <td>-122.426094</td>\n",
       "      <td>2901</td>\n",
       "      <td>Customer</td>\n",
       "      <td>No</td>\n",
       "      <td>NaN</td>\n",
       "    </tr>\n",
       "    <tr>\n",
       "      <th>2277674</th>\n",
       "      <td>684</td>\n",
       "      <td>2019-11-12 10:47:37.2490</td>\n",
       "      <td>2019-11-12 10:59:01.6020</td>\n",
       "      <td>6.0</td>\n",
       "      <td>The Embarcadero at Sansome St</td>\n",
       "      <td>37.804770</td>\n",
       "      <td>-122.403234</td>\n",
       "      <td>21.0</td>\n",
       "      <td>Montgomery St BART Station (Market St at 2nd St)</td>\n",
       "      <td>37.789625</td>\n",
       "      <td>-122.400811</td>\n",
       "      <td>2800</td>\n",
       "      <td>Subscriber</td>\n",
       "      <td>No</td>\n",
       "      <td>NaN</td>\n",
       "    </tr>\n",
       "    <tr>\n",
       "      <th>2151087</th>\n",
       "      <td>564</td>\n",
       "      <td>2019-10-03 09:06:11.9260</td>\n",
       "      <td>2019-10-03 09:15:36.5720</td>\n",
       "      <td>89.0</td>\n",
       "      <td>Division St at Potrero Ave</td>\n",
       "      <td>37.769218</td>\n",
       "      <td>-122.407646</td>\n",
       "      <td>81.0</td>\n",
       "      <td>Berry St at 4th St</td>\n",
       "      <td>37.775880</td>\n",
       "      <td>-122.393170</td>\n",
       "      <td>11796</td>\n",
       "      <td>Subscriber</td>\n",
       "      <td>No</td>\n",
       "      <td>NaN</td>\n",
       "    </tr>\n",
       "    <tr>\n",
       "      <th>241892</th>\n",
       "      <td>145</td>\n",
       "      <td>2019-02-21 20:31:21.8180</td>\n",
       "      <td>2019-02-21 20:33:47.8130</td>\n",
       "      <td>243.0</td>\n",
       "      <td>Bancroft Way at College Ave</td>\n",
       "      <td>37.869360</td>\n",
       "      <td>-122.254337</td>\n",
       "      <td>253.0</td>\n",
       "      <td>Haste St at College Ave</td>\n",
       "      <td>37.866418</td>\n",
       "      <td>-122.253799</td>\n",
       "      <td>1426</td>\n",
       "      <td>Subscriber</td>\n",
       "      <td>Yes</td>\n",
       "      <td>NaN</td>\n",
       "    </tr>\n",
       "  </tbody>\n",
       "</table>\n",
       "</div>"
      ],
      "text/plain": [
       "         duration_sec                start_time                  end_time  \\\n",
       "985065           1324  2019-05-11 14:17:28.8680  2019-05-11 14:39:33.1450   \n",
       "826853            285  2019-04-05 13:33:35.5210  2019-04-05 13:38:20.5700   \n",
       "2109522           417  2019-10-08 18:32:08.8850  2019-10-08 18:39:06.0800   \n",
       "1226725           347  2019-06-03 20:09:28.9440  2019-06-03 20:15:16.3550   \n",
       "936469            205  2019-05-21 06:52:01.9790  2019-05-21 06:55:27.1350   \n",
       "234132            788  2019-02-22 17:49:25.4970  2019-02-22 18:02:33.5960   \n",
       "1299113          1655  2019-07-21 16:26:31.4920  2019-07-21 16:54:06.9190   \n",
       "2277674           684  2019-11-12 10:47:37.2490  2019-11-12 10:59:01.6020   \n",
       "2151087           564  2019-10-03 09:06:11.9260  2019-10-03 09:15:36.5720   \n",
       "241892            145  2019-02-21 20:31:21.8180  2019-02-21 20:33:47.8130   \n",
       "\n",
       "         start_station_id             start_station_name  \\\n",
       "985065               10.0     Washington St at Kearny St   \n",
       "826853               86.0        Market St at Dolores St   \n",
       "2109522             109.0         17th St at Valencia St   \n",
       "1226725              37.0            2nd St at Folsom St   \n",
       "936469              131.0          22nd St at Dolores St   \n",
       "234132               81.0             Berry St at 4th St   \n",
       "1299113              64.0           5th St at Brannan St   \n",
       "2277674               6.0  The Embarcadero at Sansome St   \n",
       "2151087              89.0     Division St at Potrero Ave   \n",
       "241892              243.0    Bancroft Way at College Ave   \n",
       "\n",
       "         start_station_latitude  start_station_longitude  end_station_id  \\\n",
       "985065                37.795393              -122.404770             5.0   \n",
       "826853                37.769305              -122.426826           119.0   \n",
       "2109522               37.763316              -122.421904           381.0   \n",
       "1226725               37.785377              -122.396906            81.0   \n",
       "936469                37.755000              -122.425728           386.0   \n",
       "234132                37.775880              -122.393170           355.0   \n",
       "1299113               37.776754              -122.399018           381.0   \n",
       "2277674               37.804770              -122.403234            21.0   \n",
       "2151087               37.769218              -122.407646            81.0   \n",
       "241892                37.869360              -122.254337           253.0   \n",
       "\n",
       "                                         end_station_name  \\\n",
       "985065       Powell St BART Station (Market St at 5th St)   \n",
       "826853                                  18th St at Noe St   \n",
       "2109522                             20th St at Dolores St   \n",
       "1226725                                Berry St at 4th St   \n",
       "936469                             24th St at Bartlett St   \n",
       "234132                            23rd St at Tennessee St   \n",
       "1299113                             20th St at Dolores St   \n",
       "2277674  Montgomery St BART Station (Market St at 2nd St)   \n",
       "2151087                                Berry St at 4th St   \n",
       "241892                            Haste St at College Ave   \n",
       "\n",
       "         end_station_latitude  end_station_longitude  bike_id   user_type  \\\n",
       "985065              37.783899            -122.408445     1416    Customer   \n",
       "826853              37.761047            -122.432642     5550  Subscriber   \n",
       "2109522             37.758238            -122.426094    12001  Subscriber   \n",
       "1226725             37.775880            -122.393170     2039  Subscriber   \n",
       "936469              37.752105            -122.419724     3129  Subscriber   \n",
       "234132              37.755367            -122.388795     6533    Customer   \n",
       "1299113             37.758238            -122.426094     2901    Customer   \n",
       "2277674             37.789625            -122.400811     2800  Subscriber   \n",
       "2151087             37.775880            -122.393170    11796  Subscriber   \n",
       "241892              37.866418            -122.253799     1426  Subscriber   \n",
       "\n",
       "        bike_share_for_all_trip rental_access_method  \n",
       "985065                       No                  NaN  \n",
       "826853                       No                  NaN  \n",
       "2109522                      No                  NaN  \n",
       "1226725                      No                  NaN  \n",
       "936469                       No                  NaN  \n",
       "234132                       No                  NaN  \n",
       "1299113                      No                  NaN  \n",
       "2277674                      No                  NaN  \n",
       "2151087                      No                  NaN  \n",
       "241892                      Yes                  NaN  "
      ]
     },
     "execution_count": 27,
     "metadata": {},
     "output_type": "execute_result"
    }
   ],
   "source": [
    "#Quick view of data\n",
    "df_2019.sample(10)"
   ]
  },
  {
   "cell_type": "code",
   "execution_count": 26,
   "metadata": {},
   "outputs": [
    {
     "name": "stdout",
     "output_type": "stream",
     "text": [
      "<class 'pandas.core.frame.DataFrame'>\n",
      "RangeIndex: 2506983 entries, 0 to 2506982\n",
      "Data columns (total 15 columns):\n",
      " #   Column                   Non-Null Count    Dtype  \n",
      "---  ------                   --------------    -----  \n",
      " 0   duration_sec             2506983 non-null  int64  \n",
      " 1   start_time               2506983 non-null  object \n",
      " 2   end_time                 2506983 non-null  object \n",
      " 3   start_station_id         2426249 non-null  float64\n",
      " 4   start_station_name       2426850 non-null  object \n",
      " 5   start_station_latitude   2506983 non-null  float64\n",
      " 6   start_station_longitude  2506983 non-null  float64\n",
      " 7   end_station_id           2424081 non-null  float64\n",
      " 8   end_station_name         2424633 non-null  object \n",
      " 9   end_station_latitude     2506983 non-null  float64\n",
      " 10  end_station_longitude    2506983 non-null  float64\n",
      " 11  bike_id                  2506983 non-null  int64  \n",
      " 12  user_type                2506983 non-null  object \n",
      " 13  bike_share_for_all_trip  2263724 non-null  object \n",
      " 14  rental_access_method     120838 non-null   object \n",
      "dtypes: float64(6), int64(2), object(7)\n",
      "memory usage: 286.9+ MB\n"
     ]
    }
   ],
   "source": [
    "#Get general info\n",
    "df_2019.info(verbose=True, null_counts=True)"
   ]
  },
  {
   "cell_type": "code",
   "execution_count": 29,
   "metadata": {},
   "outputs": [
    {
     "data": {
      "text/plain": [
       "duration_sec                     0\n",
       "start_time                       0\n",
       "end_time                         0\n",
       "start_station_id             80734\n",
       "start_station_name           80133\n",
       "start_station_latitude           0\n",
       "start_station_longitude          0\n",
       "end_station_id               82902\n",
       "end_station_name             82350\n",
       "end_station_latitude             0\n",
       "end_station_longitude            0\n",
       "bike_id                          0\n",
       "user_type                        0\n",
       "bike_share_for_all_trip     243259\n",
       "rental_access_method       2386145\n",
       "dtype: int64"
      ]
     },
     "execution_count": 29,
     "metadata": {},
     "output_type": "execute_result"
    }
   ],
   "source": [
    "#Check for total null values\n",
    "df_2019.isna().sum()"
   ]
  },
  {
   "cell_type": "code",
   "execution_count": 30,
   "metadata": {},
   "outputs": [
    {
     "data": {
      "text/plain": [
       "app        108010\n",
       "clipper     12828\n",
       "Name: rental_access_method, dtype: int64"
      ]
     },
     "execution_count": 30,
     "metadata": {},
     "output_type": "execute_result"
    }
   ],
   "source": [
    "#Check values for rental_access_method\n",
    "df_2019.rental_access_method.value_counts()"
   ]
  },
  {
   "cell_type": "code",
   "execution_count": 31,
   "metadata": {},
   "outputs": [
    {
     "data": {
      "text/plain": [
       "No     2086152\n",
       "Yes     177572\n",
       "Name: bike_share_for_all_trip, dtype: int64"
      ]
     },
     "execution_count": 31,
     "metadata": {},
     "output_type": "execute_result"
    }
   ],
   "source": [
    "#Check values for bike_share_for_all_trip\n",
    "df_2019.bike_share_for_all_trip.value_counts()"
   ]
  },
  {
   "cell_type": "code",
   "execution_count": 33,
   "metadata": {},
   "outputs": [
    {
     "data": {
      "text/plain": [
       "58.0     45058\n",
       "81.0     42962\n",
       "30.0     40302\n",
       "15.0     39016\n",
       "67.0     36576\n",
       "         ...  \n",
       "429.0        4\n",
       "329.0        3\n",
       "444.0        3\n",
       "484.0        2\n",
       "420.0        1\n",
       "Name: start_station_id, Length: 436, dtype: int64"
      ]
     },
     "execution_count": 33,
     "metadata": {},
     "output_type": "execute_result"
    }
   ],
   "source": [
    "#Check values for start_station_id\n",
    "df_2019.start_station_id.value_counts()"
   ]
  },
  {
   "cell_type": "code",
   "execution_count": 32,
   "metadata": {},
   "outputs": [
    {
     "data": {
      "text/plain": [
       "0"
      ]
     },
     "execution_count": 32,
     "metadata": {},
     "output_type": "execute_result"
    }
   ],
   "source": [
    "#Check for duplicates\n",
    "df_2019.duplicated().sum()"
   ]
  },
  {
   "cell_type": "code",
   "execution_count": 34,
   "metadata": {},
   "outputs": [
    {
     "data": {
      "text/plain": [
       "Subscriber    2021166\n",
       "Customer       485817\n",
       "Name: user_type, dtype: int64"
      ]
     },
     "execution_count": 34,
     "metadata": {},
     "output_type": "execute_result"
    }
   ],
   "source": [
    "#Check values for user_type\n",
    "df_2019.user_type.value_counts()"
   ]
  },
  {
   "cell_type": "markdown",
   "metadata": {},
   "source": [
    "#### Assessment Documentation\n",
    "\n",
    "##### Quality Issues\n",
    "- Drop columns that won't be used for analysis\n",
    "- Delete columns with null Start and End Stations\n",
    "- Change ID's columns to object type\n",
    "- Change date columns to datetime type\n",
    "\n",
    "##### Tidiness Issues\n",
    "- Split Start dates into Day of Week, Month and Hour columns\n",
    "- Create a column with value = 1 to represent the number of trips per row. This will be used just to keep summarized easily the number of trips, to compare it agains other variables\n",
    "\n",
    "### Cleaning Data\n",
    "\n",
    "Before estart with exploratory analysis, I will perform some changes on dataset to get it ready. Let's create a copy of dataset:"
   ]
  },
  {
   "cell_type": "code",
   "execution_count": 326,
   "metadata": {},
   "outputs": [],
   "source": [
    "df_2019_clean = df_2019.copy()"
   ]
  },
  {
   "cell_type": "markdown",
   "metadata": {},
   "source": [
    "#### Quality Issues\n",
    "- Drop columns that won't be used for analysis: Drop ``bike_id``, ``bike_share_for_all_trip`` and ``rental_access_method``"
   ]
  },
  {
   "cell_type": "code",
   "execution_count": 327,
   "metadata": {
    "scrolled": true
   },
   "outputs": [
    {
     "name": "stdout",
     "output_type": "stream",
     "text": [
      "<class 'pandas.core.frame.DataFrame'>\n",
      "RangeIndex: 2506983 entries, 0 to 2506982\n",
      "Data columns (total 12 columns):\n",
      " #   Column                   Non-Null Count    Dtype  \n",
      "---  ------                   --------------    -----  \n",
      " 0   duration_sec             2506983 non-null  int64  \n",
      " 1   start_time               2506983 non-null  object \n",
      " 2   end_time                 2506983 non-null  object \n",
      " 3   start_station_id         2426249 non-null  float64\n",
      " 4   start_station_name       2426850 non-null  object \n",
      " 5   start_station_latitude   2506983 non-null  float64\n",
      " 6   start_station_longitude  2506983 non-null  float64\n",
      " 7   end_station_id           2424081 non-null  float64\n",
      " 8   end_station_name         2424633 non-null  object \n",
      " 9   end_station_latitude     2506983 non-null  float64\n",
      " 10  end_station_longitude    2506983 non-null  float64\n",
      " 11  user_type                2506983 non-null  object \n",
      "dtypes: float64(6), int64(1), object(5)\n",
      "memory usage: 229.5+ MB\n"
     ]
    }
   ],
   "source": [
    "#CODE\n",
    "df_2019_clean.drop(['bike_id','bike_share_for_all_trip','rental_access_method'], axis=1, inplace=True)\n",
    "#TEST\n",
    "df_2019_clean.info(verbose=True, null_counts=True)"
   ]
  },
  {
   "cell_type": "markdown",
   "metadata": {},
   "source": [
    "- Delete columns with null Start and End Stations: Drop rows with null values"
   ]
  },
  {
   "cell_type": "code",
   "execution_count": 328,
   "metadata": {},
   "outputs": [
    {
     "data": {
      "text/plain": [
       "duration_sec                   0\n",
       "start_time                     0\n",
       "end_time                       0\n",
       "start_station_id               0\n",
       "start_station_name             0\n",
       "start_station_latitude         0\n",
       "start_station_longitude        0\n",
       "end_station_id             18990\n",
       "end_station_name           18685\n",
       "end_station_latitude           0\n",
       "end_station_longitude          0\n",
       "user_type                      0\n",
       "dtype: int64"
      ]
     },
     "execution_count": 328,
     "metadata": {},
     "output_type": "execute_result"
    }
   ],
   "source": [
    "#CODE\n",
    "df_2019_clean.drop(df_2019_clean[df_2019_clean['start_station_id'].isnull()].index, inplace = True)\n",
    "#TEST\n",
    "df_2019_clean.isna().sum()"
   ]
  },
  {
   "cell_type": "code",
   "execution_count": 329,
   "metadata": {},
   "outputs": [
    {
     "data": {
      "text/plain": [
       "duration_sec               0\n",
       "start_time                 0\n",
       "end_time                   0\n",
       "start_station_id           0\n",
       "start_station_name         0\n",
       "start_station_latitude     0\n",
       "start_station_longitude    0\n",
       "end_station_id             0\n",
       "end_station_name           0\n",
       "end_station_latitude       0\n",
       "end_station_longitude      0\n",
       "user_type                  0\n",
       "dtype: int64"
      ]
     },
     "execution_count": 329,
     "metadata": {},
     "output_type": "execute_result"
    }
   ],
   "source": [
    "#CODE\n",
    "df_2019_clean.drop(df_2019_clean[df_2019_clean['end_station_id'].isnull()].index, inplace = True)\n",
    "#TEST\n",
    "df_2019_clean.isna().sum()"
   ]
  },
  {
   "cell_type": "code",
   "execution_count": 93,
   "metadata": {},
   "outputs": [
    {
     "data": {
      "text/plain": [
       "(2407259, 13)"
      ]
     },
     "execution_count": 93,
     "metadata": {},
     "output_type": "execute_result"
    }
   ],
   "source": [
    "#TEST\n",
    "df_2019_clean.shape"
   ]
  },
  {
   "cell_type": "markdown",
   "metadata": {},
   "source": [
    "- Change ID's columns to object type: Covert columns ``start_station_id`` and ``end_station_id``  to string"
   ]
  },
  {
   "cell_type": "code",
   "execution_count": 331,
   "metadata": {},
   "outputs": [
    {
     "name": "stdout",
     "output_type": "stream",
     "text": [
      "<class 'pandas.core.frame.DataFrame'>\n",
      "Int64Index: 2407259 entries, 0 to 2506660\n",
      "Data columns (total 12 columns):\n",
      " #   Column                   Non-Null Count    Dtype  \n",
      "---  ------                   --------------    -----  \n",
      " 0   duration_sec             2407259 non-null  int64  \n",
      " 1   start_time               2407259 non-null  object \n",
      " 2   end_time                 2407259 non-null  object \n",
      " 3   start_station_id         2407259 non-null  object \n",
      " 4   start_station_name       2407259 non-null  object \n",
      " 5   start_station_latitude   2407259 non-null  float64\n",
      " 6   start_station_longitude  2407259 non-null  float64\n",
      " 7   end_station_id           2407259 non-null  object \n",
      " 8   end_station_name         2407259 non-null  object \n",
      " 9   end_station_latitude     2407259 non-null  float64\n",
      " 10  end_station_longitude    2407259 non-null  float64\n",
      " 11  user_type                2407259 non-null  object \n",
      "dtypes: float64(4), int64(1), object(7)\n",
      "memory usage: 238.8+ MB\n"
     ]
    }
   ],
   "source": [
    "#CODE\n",
    "df_2019_clean['start_station_id'] = df_2019_clean['start_station_id'].astype(np.object)\n",
    "df_2019_clean['end_station_id'] = df_2019_clean['end_station_id'].astype(np.object)\n",
    "#TEST\n",
    "df_2019_clean.info(verbose=True, null_counts=True)"
   ]
  },
  {
   "cell_type": "markdown",
   "metadata": {},
   "source": [
    "- Change date columns to datetime type: Convert ``start_time`` and ``end_time`` columns to datetime type"
   ]
  },
  {
   "cell_type": "code",
   "execution_count": 332,
   "metadata": {},
   "outputs": [
    {
     "name": "stdout",
     "output_type": "stream",
     "text": [
      "<class 'pandas.core.frame.DataFrame'>\n",
      "Int64Index: 2407259 entries, 0 to 2506660\n",
      "Data columns (total 12 columns):\n",
      " #   Column                   Non-Null Count    Dtype         \n",
      "---  ------                   --------------    -----         \n",
      " 0   duration_sec             2407259 non-null  int64         \n",
      " 1   start_time               2407259 non-null  datetime64[ns]\n",
      " 2   end_time                 2407259 non-null  datetime64[ns]\n",
      " 3   start_station_id         2407259 non-null  object        \n",
      " 4   start_station_name       2407259 non-null  object        \n",
      " 5   start_station_latitude   2407259 non-null  float64       \n",
      " 6   start_station_longitude  2407259 non-null  float64       \n",
      " 7   end_station_id           2407259 non-null  object        \n",
      " 8   end_station_name         2407259 non-null  object        \n",
      " 9   end_station_latitude     2407259 non-null  float64       \n",
      " 10  end_station_longitude    2407259 non-null  float64       \n",
      " 11  user_type                2407259 non-null  object        \n",
      "dtypes: datetime64[ns](2), float64(4), int64(1), object(5)\n",
      "memory usage: 238.8+ MB\n"
     ]
    }
   ],
   "source": [
    "#CODE\n",
    "df_2019_clean['start_time'] = df_2019_clean['start_time'].astype('datetime64[ns]')\n",
    "df_2019_clean['end_time'] = df_2019_clean['end_time'].astype('datetime64[ns]')\n",
    "#TEST\n",
    "df_2019_clean.info(verbose=True, null_counts=True)"
   ]
  },
  {
   "cell_type": "markdown",
   "metadata": {},
   "source": [
    "#### Tidiness Issues\n",
    "- Split Start dates into Day of Week, Month and Hour columns: Create 2 new colums from ``start_time`` to store the Day of Week and the Hour"
   ]
  },
  {
   "cell_type": "code",
   "execution_count": 333,
   "metadata": {
    "scrolled": false
   },
   "outputs": [
    {
     "name": "stdout",
     "output_type": "stream",
     "text": [
      "<class 'pandas.core.frame.DataFrame'>\n",
      "Int64Index: 2407259 entries, 0 to 2506660\n",
      "Data columns (total 15 columns):\n",
      " #   Column                   Non-Null Count    Dtype         \n",
      "---  ------                   --------------    -----         \n",
      " 0   duration_sec             2407259 non-null  int64         \n",
      " 1   start_time               2407259 non-null  datetime64[ns]\n",
      " 2   end_time                 2407259 non-null  datetime64[ns]\n",
      " 3   start_station_id         2407259 non-null  object        \n",
      " 4   start_station_name       2407259 non-null  object        \n",
      " 5   start_station_latitude   2407259 non-null  float64       \n",
      " 6   start_station_longitude  2407259 non-null  float64       \n",
      " 7   end_station_id           2407259 non-null  object        \n",
      " 8   end_station_name         2407259 non-null  object        \n",
      " 9   end_station_latitude     2407259 non-null  float64       \n",
      " 10  end_station_longitude    2407259 non-null  float64       \n",
      " 11  user_type                2407259 non-null  object        \n",
      " 12  start_time_dayofweek     2407259 non-null  object        \n",
      " 13  start_time_month_name    2407259 non-null  object        \n",
      " 14  start_time_hour          2407259 non-null  int64         \n",
      "dtypes: datetime64[ns](2), float64(4), int64(2), object(7)\n",
      "memory usage: 293.9+ MB\n"
     ]
    }
   ],
   "source": [
    "#CODE\n",
    "df_2019_clean['start_time_dayofweek'] = df_2019_clean['start_time'].dt.strftime('%A')\n",
    "df_2019_clean['start_time_month_name'] = df_2019_clean['start_time'].dt.strftime('%B')\n",
    "df_2019_clean['start_time_hour'] = df_2019_clean['start_time'].dt.hour\n",
    "#TEST\n",
    "df_2019_clean.info(verbose=True, null_counts=True)"
   ]
  },
  {
   "cell_type": "markdown",
   "metadata": {},
   "source": [
    "- Create a column with value = 1 to represent the number of trips per row: Create a column with value 1"
   ]
  },
  {
   "cell_type": "code",
   "execution_count": 334,
   "metadata": {},
   "outputs": [
    {
     "name": "stdout",
     "output_type": "stream",
     "text": [
      "<class 'pandas.core.frame.DataFrame'>\n",
      "Int64Index: 2407259 entries, 0 to 2506660\n",
      "Data columns (total 16 columns):\n",
      " #   Column                   Non-Null Count    Dtype         \n",
      "---  ------                   --------------    -----         \n",
      " 0   duration_sec             2407259 non-null  int64         \n",
      " 1   start_time               2407259 non-null  datetime64[ns]\n",
      " 2   end_time                 2407259 non-null  datetime64[ns]\n",
      " 3   start_station_id         2407259 non-null  object        \n",
      " 4   start_station_name       2407259 non-null  object        \n",
      " 5   start_station_latitude   2407259 non-null  float64       \n",
      " 6   start_station_longitude  2407259 non-null  float64       \n",
      " 7   end_station_id           2407259 non-null  object        \n",
      " 8   end_station_name         2407259 non-null  object        \n",
      " 9   end_station_latitude     2407259 non-null  float64       \n",
      " 10  end_station_longitude    2407259 non-null  float64       \n",
      " 11  user_type                2407259 non-null  object        \n",
      " 12  start_time_dayofweek     2407259 non-null  object        \n",
      " 13  start_time_month_name    2407259 non-null  object        \n",
      " 14  start_time_hour          2407259 non-null  int64         \n",
      " 15  trips                    2407259 non-null  int64         \n",
      "dtypes: datetime64[ns](2), float64(4), int64(3), object(7)\n",
      "memory usage: 312.2+ MB\n"
     ]
    }
   ],
   "source": [
    "#CODE\n",
    "df_2019_clean['trips'] = 1\n",
    "#TEST\n",
    "df_2019_clean.info(verbose=True, null_counts=True)"
   ]
  },
  {
   "cell_type": "code",
   "execution_count": 335,
   "metadata": {},
   "outputs": [
    {
     "data": {
      "text/html": [
       "<div>\n",
       "<style scoped>\n",
       "    .dataframe tbody tr th:only-of-type {\n",
       "        vertical-align: middle;\n",
       "    }\n",
       "\n",
       "    .dataframe tbody tr th {\n",
       "        vertical-align: top;\n",
       "    }\n",
       "\n",
       "    .dataframe thead th {\n",
       "        text-align: right;\n",
       "    }\n",
       "</style>\n",
       "<table border=\"1\" class=\"dataframe\">\n",
       "  <thead>\n",
       "    <tr style=\"text-align: right;\">\n",
       "      <th></th>\n",
       "      <th>duration_sec</th>\n",
       "      <th>start_time</th>\n",
       "      <th>end_time</th>\n",
       "      <th>start_station_id</th>\n",
       "      <th>start_station_name</th>\n",
       "      <th>start_station_latitude</th>\n",
       "      <th>start_station_longitude</th>\n",
       "      <th>end_station_id</th>\n",
       "      <th>end_station_name</th>\n",
       "      <th>end_station_latitude</th>\n",
       "      <th>end_station_longitude</th>\n",
       "      <th>user_type</th>\n",
       "      <th>start_time_dayofweek</th>\n",
       "      <th>start_time_month_name</th>\n",
       "      <th>start_time_hour</th>\n",
       "      <th>trips</th>\n",
       "    </tr>\n",
       "  </thead>\n",
       "  <tbody>\n",
       "    <tr>\n",
       "      <th>0</th>\n",
       "      <td>80825</td>\n",
       "      <td>2019-01-31 17:57:44.613</td>\n",
       "      <td>2019-02-01 16:24:49.864</td>\n",
       "      <td>229</td>\n",
       "      <td>Foothill Blvd at 42nd Ave</td>\n",
       "      <td>37.775745</td>\n",
       "      <td>-122.213037</td>\n",
       "      <td>196</td>\n",
       "      <td>Grand Ave at Perkins St</td>\n",
       "      <td>37.808894</td>\n",
       "      <td>-122.256460</td>\n",
       "      <td>Subscriber</td>\n",
       "      <td>Thursday</td>\n",
       "      <td>January</td>\n",
       "      <td>17</td>\n",
       "      <td>1</td>\n",
       "    </tr>\n",
       "    <tr>\n",
       "      <th>1</th>\n",
       "      <td>65900</td>\n",
       "      <td>2019-01-31 20:58:33.886</td>\n",
       "      <td>2019-02-01 15:16:54.173</td>\n",
       "      <td>4</td>\n",
       "      <td>Cyril Magnin St at Ellis St</td>\n",
       "      <td>37.785881</td>\n",
       "      <td>-122.408915</td>\n",
       "      <td>134</td>\n",
       "      <td>Valencia St at 24th St</td>\n",
       "      <td>37.752428</td>\n",
       "      <td>-122.420628</td>\n",
       "      <td>Subscriber</td>\n",
       "      <td>Thursday</td>\n",
       "      <td>January</td>\n",
       "      <td>20</td>\n",
       "      <td>1</td>\n",
       "    </tr>\n",
       "    <tr>\n",
       "      <th>2</th>\n",
       "      <td>62633</td>\n",
       "      <td>2019-01-31 18:06:52.924</td>\n",
       "      <td>2019-02-01 11:30:46.530</td>\n",
       "      <td>245</td>\n",
       "      <td>Downtown Berkeley BART</td>\n",
       "      <td>37.870139</td>\n",
       "      <td>-122.268422</td>\n",
       "      <td>157</td>\n",
       "      <td>65th St at Hollis St</td>\n",
       "      <td>37.846784</td>\n",
       "      <td>-122.291376</td>\n",
       "      <td>Customer</td>\n",
       "      <td>Thursday</td>\n",
       "      <td>January</td>\n",
       "      <td>18</td>\n",
       "      <td>1</td>\n",
       "    </tr>\n",
       "    <tr>\n",
       "      <th>3</th>\n",
       "      <td>44680</td>\n",
       "      <td>2019-01-31 19:46:09.719</td>\n",
       "      <td>2019-02-01 08:10:50.318</td>\n",
       "      <td>85</td>\n",
       "      <td>Church St at Duboce Ave</td>\n",
       "      <td>37.770083</td>\n",
       "      <td>-122.429156</td>\n",
       "      <td>53</td>\n",
       "      <td>Grove St at Divisadero</td>\n",
       "      <td>37.775946</td>\n",
       "      <td>-122.437777</td>\n",
       "      <td>Customer</td>\n",
       "      <td>Thursday</td>\n",
       "      <td>January</td>\n",
       "      <td>19</td>\n",
       "      <td>1</td>\n",
       "    </tr>\n",
       "    <tr>\n",
       "      <th>4</th>\n",
       "      <td>60709</td>\n",
       "      <td>2019-01-31 14:19:01.541</td>\n",
       "      <td>2019-02-01 07:10:51.065</td>\n",
       "      <td>16</td>\n",
       "      <td>Steuart St at Market St</td>\n",
       "      <td>37.794130</td>\n",
       "      <td>-122.394430</td>\n",
       "      <td>28</td>\n",
       "      <td>The Embarcadero at Bryant St</td>\n",
       "      <td>37.787168</td>\n",
       "      <td>-122.388098</td>\n",
       "      <td>Customer</td>\n",
       "      <td>Thursday</td>\n",
       "      <td>January</td>\n",
       "      <td>14</td>\n",
       "      <td>1</td>\n",
       "    </tr>\n",
       "  </tbody>\n",
       "</table>\n",
       "</div>"
      ],
      "text/plain": [
       "   duration_sec              start_time                end_time  \\\n",
       "0         80825 2019-01-31 17:57:44.613 2019-02-01 16:24:49.864   \n",
       "1         65900 2019-01-31 20:58:33.886 2019-02-01 15:16:54.173   \n",
       "2         62633 2019-01-31 18:06:52.924 2019-02-01 11:30:46.530   \n",
       "3         44680 2019-01-31 19:46:09.719 2019-02-01 08:10:50.318   \n",
       "4         60709 2019-01-31 14:19:01.541 2019-02-01 07:10:51.065   \n",
       "\n",
       "  start_station_id           start_station_name  start_station_latitude  \\\n",
       "0              229    Foothill Blvd at 42nd Ave               37.775745   \n",
       "1                4  Cyril Magnin St at Ellis St               37.785881   \n",
       "2              245       Downtown Berkeley BART               37.870139   \n",
       "3               85      Church St at Duboce Ave               37.770083   \n",
       "4               16      Steuart St at Market St               37.794130   \n",
       "\n",
       "   start_station_longitude end_station_id              end_station_name  \\\n",
       "0              -122.213037            196       Grand Ave at Perkins St   \n",
       "1              -122.408915            134        Valencia St at 24th St   \n",
       "2              -122.268422            157          65th St at Hollis St   \n",
       "3              -122.429156             53        Grove St at Divisadero   \n",
       "4              -122.394430             28  The Embarcadero at Bryant St   \n",
       "\n",
       "   end_station_latitude  end_station_longitude   user_type  \\\n",
       "0             37.808894            -122.256460  Subscriber   \n",
       "1             37.752428            -122.420628  Subscriber   \n",
       "2             37.846784            -122.291376    Customer   \n",
       "3             37.775946            -122.437777    Customer   \n",
       "4             37.787168            -122.388098    Customer   \n",
       "\n",
       "  start_time_dayofweek start_time_month_name  start_time_hour  trips  \n",
       "0             Thursday               January               17      1  \n",
       "1             Thursday               January               20      1  \n",
       "2             Thursday               January               18      1  \n",
       "3             Thursday               January               19      1  \n",
       "4             Thursday               January               14      1  "
      ]
     },
     "execution_count": 335,
     "metadata": {},
     "output_type": "execute_result"
    }
   ],
   "source": [
    "#TEST\n",
    "df_2019_clean.head()"
   ]
  },
  {
   "cell_type": "markdown",
   "metadata": {},
   "source": [
    "Great! Now I will save the wrangled dataset into a file, to use it in the presentation notebook:"
   ]
  },
  {
   "cell_type": "code",
   "execution_count": 336,
   "metadata": {},
   "outputs": [],
   "source": [
    "df_2019_clean.to_csv('2019-baywheels-tripdata-wrangled.csv',index=False)"
   ]
  },
  {
   "cell_type": "code",
   "execution_count": 337,
   "metadata": {},
   "outputs": [
    {
     "data": {
      "text/plain": [
       "(2407259, 16)"
      ]
     },
     "execution_count": 337,
     "metadata": {},
     "output_type": "execute_result"
    }
   ],
   "source": [
    "#Get total rows and columns\n",
    "df_2019_clean.shape"
   ]
  },
  {
   "cell_type": "markdown",
   "metadata": {},
   "source": [
    "From this point and beyond, I will name my dataset af ``df`` just for simplicity:"
   ]
  },
  {
   "cell_type": "code",
   "execution_count": 338,
   "metadata": {},
   "outputs": [
    {
     "data": {
      "text/plain": [
       "(2407259, 16)"
      ]
     },
     "execution_count": 338,
     "metadata": {},
     "output_type": "execute_result"
    }
   ],
   "source": [
    "#Get total rows and columns\n",
    "df = df_2019_clean\n",
    "df.shape"
   ]
  },
  {
   "cell_type": "markdown",
   "metadata": {},
   "source": [
    "### What is the structure of your dataset?\n",
    "\n",
    "> The dataset has more than 2 Million bike rides that happened in 2019 in the San Francisco Bay Area. The dataset contained features about:\n",
    "<br>\n",
    "- **Trip duration:** How long the trip was in seconds\n",
    "- **Start time/end time:** Start/end datetime for the bike rides.\n",
    "- **Stations:** start/end station, name and geolocation (latitude/longitude)\n",
    "- **User type:** If the bike rider has a subscription or just a casual client\n",
    "- **Day of week:** Which day the bike was rented\n",
    "- **Month:** Which month the bike was rented\n",
    "- **Hour:** What hour of the day the bike was rented\n",
    "- **Trips:** A dummy metric with value = 1, just to represent that each row is a bike trip, and use the metric for summarization purposes\n",
    "\n",
    "### What is/are the main feature(s) of interest in your dataset?\n",
    "\n",
    "> - Trips \n",
    "- Trip duration\n",
    "\n",
    "### What features in the dataset do you think will help support your investigation into your feature(s) of interest?\n",
    "\n",
    "> - Hours\n",
    "- Days of Week\n",
    "- Month\n",
    "- User Type\n",
    "- Stations"
   ]
  },
  {
   "cell_type": "markdown",
   "metadata": {},
   "source": [
    "## Univariate Exploration\n",
    "\n",
    "Let's start analysing the variables on dataset:\n",
    "\n",
    "#### Trip duration"
   ]
  },
  {
   "cell_type": "code",
   "execution_count": 104,
   "metadata": {
    "scrolled": true
   },
   "outputs": [
    {
     "data": {
      "image/png": "[encoded data removed]",
      "text/plain": [
       "<Figure size 432x288 with 1 Axes>"
      ]
     },
     "metadata": {
      "needs_background": "light"
     },
     "output_type": "display_data"
    }
   ],
   "source": [
    "#Plot the chart\n",
    "plt.hist(df.duration_sec);"
   ]
  },
  {
   "cell_type": "markdown",
   "metadata": {},
   "source": [
    "Ok, the first plot isn't make sense... Let's try with more bins:"
   ]
  },
  {
   "cell_type": "code",
   "execution_count": 106,
   "metadata": {},
   "outputs": [
    {
     "data": {
      "image/png": "[encoded data removed]",
      "text/plain": [
       "<Figure size 432x288 with 1 Axes>"
      ]
     },
     "metadata": {
      "needs_background": "light"
     },
     "output_type": "display_data"
    }
   ],
   "source": [
    "#Define bins\n",
    "bin_edges = np.arange(0, df.duration_sec.max()+1, 1)\n",
    "#Plot the chart\n",
    "plt.hist(data = df, x = 'duration_sec', bins = bin_edges);"
   ]
  },
  {
   "cell_type": "code",
   "execution_count": 107,
   "metadata": {},
   "outputs": [
    {
     "data": {
      "text/plain": [
       "count    2.407259e+06\n",
       "mean     8.048171e+02\n",
       "std      1.910718e+03\n",
       "min      6.000000e+01\n",
       "25%      3.580000e+02\n",
       "50%      5.690000e+02\n",
       "75%      8.830000e+02\n",
       "max      8.623000e+04\n",
       "Name: duration_sec, dtype: float64"
      ]
     },
     "execution_count": 107,
     "metadata": {},
     "output_type": "execute_result"
    }
   ],
   "source": [
    "df.duration_sec.describe()"
   ]
  },
  {
   "cell_type": "markdown",
   "metadata": {},
   "source": [
    "The visualization isn't clear yet, so, it will be necesary to discover how the distribution in duration is. Let's scale and transform it:"
   ]
  },
  {
   "cell_type": "code",
   "execution_count": 116,
   "metadata": {},
   "outputs": [
    {
     "data": {
      "image/png": "[encoded data removed]",
      "text/plain": [
       "<Figure size 576x360 with 1 Axes>"
      ]
     },
     "metadata": {
      "needs_background": "light"
     },
     "output_type": "display_data"
    }
   ],
   "source": [
    "#Define bins for log scale\n",
    "bin_edges = 10 ** np.arange(np.log10(df.duration_sec.min()), np.log10(df.duration_sec.max()) + 0.1, 0.1)\n",
    "#Define ticks to show on chart\n",
    "ticks = [30,100,300,1000,3000,10000,30000,100000]\n",
    "#Plot the chart\n",
    "plt.figure(figsize=[8, 5]);\n",
    "plt.hist(data = df, x ='duration_sec', bins = bin_edges);\n",
    "plt.xscale(\"log\");\n",
    "plt.xticks(ticks,ticks);"
   ]
  },
  {
   "cell_type": "markdown",
   "metadata": {},
   "source": [
    "This is much better. This chart is telling us that users spend around 300 and 1000 seconds per trip, this is like between 5 and 17 mins per trip. Let's add the mean duration in the chart:"
   ]
  },
  {
   "cell_type": "code",
   "execution_count": 131,
   "metadata": {},
   "outputs": [
    {
     "name": "stdout",
     "output_type": "stream",
     "text": [
      "Trip Duration mean:  804.8171227109339 segs -> 13.413618711848898 mins\n"
     ]
    },
    {
     "data": {
      "image/png": "[encoded data removed]",
      "text/plain": [
       "<Figure size 576x360 with 1 Axes>"
      ]
     },
     "metadata": {
      "needs_background": "light"
     },
     "output_type": "display_data"
    }
   ],
   "source": [
    "#Get mean duration\n",
    "mean_duration = df.duration_sec.mean()\n",
    "print('Trip Duration mean: ',mean_duration,'segs ->', mean_duration/60, 'mins')\n",
    "\n",
    "#Plot the chart\n",
    "plt.figure(figsize=[8, 5]);\n",
    "plt.hist(data = df, x ='duration_sec', bins = bin_edges, color='#27496d');\n",
    "plt.xscale(\"log\");\n",
    "plt.xticks(ticks,ticks);\n",
    "plt.axvline(mean_duration, color = '#f97306', lw=2.5);"
   ]
  },
  {
   "cell_type": "markdown",
   "metadata": {},
   "source": [
    "This looks much better now! In average, durations times are used to be shorts. This can be useful to generate revenue, Bat Wheels can show this as a solution for public transportation. Traffic jam can take you 45 mins in your car... as a bike cake take you in 15 minutes to your office! \n",
    "\n",
    "This view let's on clear that the we have some outliers on our data. The max duration for a trip was a trip for 86,230 segs (almost 24 hours!). Accordingly to [pricing information from Bay Wheels,](https://www.lyft.com/bikes/bay-wheels/pricing) there is no limit of how much time you can take a bike, as there are some rates for pay every 15 minutes. But, the most tipically scenario is that you return the bike after 30 (for casual customers) or 45 (for subscriptors) minutes after you grab it."
   ]
  },
  {
   "cell_type": "code",
   "execution_count": 174,
   "metadata": {},
   "outputs": [
    {
     "name": "stdout",
     "output_type": "stream",
     "text": [
      "0.019092669297321143\n",
      "666.8001501716429\n"
     ]
    }
   ],
   "source": [
    "print(df.query('duration_sec>2700').shape[0]/df.shape[0])\n",
    "print(df.query('duration_sec<=2700').duration_sec.mean())"
   ]
  },
  {
   "cell_type": "markdown",
   "metadata": {},
   "source": [
    "Almost 2% of the trips were large trips! Greater than 45 minutes. These 2% represents more than 218,000 trips. Let's take a look of the data for them:"
   ]
  },
  {
   "cell_type": "code",
   "execution_count": 225,
   "metadata": {
    "scrolled": false
   },
   "outputs": [
    {
     "data": {
      "image/png": "[encoded data removed]",
      "text/plain": [
       "<Figure size 360x576 with 1 Axes>"
      ]
     },
     "metadata": {
      "needs_background": "light"
     },
     "output_type": "display_data"
    }
   ],
   "source": [
    "plt.figure(figsize=[5, 8]);\n",
    "#Plot the chart\n",
    "sb.boxplot(data = df,  y = 'duration_sec');"
   ]
  },
  {
   "cell_type": "markdown",
   "metadata": {},
   "source": [
    "Well it seems that there are a lot of outliers, accordinly to IQR range distance. To have a better distribution of this, lets drop all outliers for this rule."
   ]
  },
  {
   "cell_type": "code",
   "execution_count": 219,
   "metadata": {},
   "outputs": [
    {
     "data": {
      "text/plain": [
       "1670.5"
      ]
     },
     "execution_count": 219,
     "metadata": {},
     "output_type": "execute_result"
    }
   ],
   "source": [
    "#Calculate fisrt quartile value\n",
    "q1 = df.duration_sec.quantile(0.25)\n",
    "#Calculate third quartile value\n",
    "q3 = df.duration_sec.quantile(0.75)\n",
    "#Calculate IQR value\n",
    "iqr = q3 - q1\n",
    "#Calculate outlier limit\n",
    "outliers_lim = iqr * 1.5 + q3\n",
    "outliers_lim"
   ]
  },
  {
   "cell_type": "markdown",
   "metadata": {},
   "source": [
    "1670.5 segs are the same as 27.8 minutes. This is less than the time allowed by Bay Wheels to keep the bike. Let's see if the chart improves just avoiding trips greater than 45 minutes:"
   ]
  },
  {
   "cell_type": "code",
   "execution_count": 339,
   "metadata": {},
   "outputs": [
    {
     "data": {
      "image/png": "[encoded data removed]",
      "text/plain": [
       "<Figure size 360x576 with 1 Axes>"
      ]
     },
     "metadata": {
      "needs_background": "light"
     },
     "output_type": "display_data"
    }
   ],
   "source": [
    "#Get trips greater than 45mins\n",
    "df_45m = df.query('duration_sec<=2700')\n",
    "#Plot the chart\n",
    "plt.figure(figsize=[5, 8]);\n",
    "sb.boxplot(data = df_45m,  y = 'duration_sec');"
   ]
  },
  {
   "cell_type": "markdown",
   "metadata": {},
   "source": [
    "It's definitely much better. So let's drop registers greater than 45 minutes (2700segs), and use it for the rest of the analysis. Now the mean trip duration is a little bit smaller."
   ]
  },
  {
   "cell_type": "code",
   "execution_count": 340,
   "metadata": {},
   "outputs": [
    {
     "name": "stdout",
     "output_type": "stream",
     "text": [
      "Trip Duration mean:  666.8001501716429 segs -> 11.113335836194048 mins\n"
     ]
    },
    {
     "data": {
      "image/png": "[encoded data removed]",
      "text/plain": [
       "<Figure size 576x360 with 1 Axes>"
      ]
     },
     "metadata": {
      "needs_background": "light"
     },
     "output_type": "display_data"
    }
   ],
   "source": [
    "df = df_45m\n",
    "\n",
    "#Get mean duration again\n",
    "mean_duration = df.duration_sec.mean()\n",
    "print('Trip Duration mean: ',mean_duration,'segs ->', mean_duration/60, 'mins')\n",
    "\n",
    "#Plot the chart\n",
    "plt.figure(figsize=[8, 5]);\n",
    "plt.hist(data = df, x ='duration_sec', bins = bin_edges, color='#27496d');\n",
    "plt.xscale(\"log\");\n",
    "plt.xticks(ticks,ticks);\n",
    "plt.axvline(mean_duration, color = '#f97306', lw=2.5);"
   ]
  },
  {
   "cell_type": "markdown",
   "metadata": {},
   "source": [
    "#### Day of Week\n",
    "\n",
    "Now, it's time to discover how data is distributed by Day of Week. Do weekends have more trips than weekdays? Let's see:"
   ]
  },
  {
   "cell_type": "code",
   "execution_count": 227,
   "metadata": {},
   "outputs": [
    {
     "data": {
      "image/png": "[encoded data removed]",
      "text/plain": [
       "<Figure size 576x360 with 1 Axes>"
      ]
     },
     "metadata": {
      "needs_background": "light"
     },
     "output_type": "display_data"
    }
   ],
   "source": [
    "#Get days of week in their correct order\n",
    "days_order = ['Monday', 'Tuesday', 'Wednesday', 'Thursday', 'Friday' , 'Saturday', 'Sunday']\n",
    "#Plot the chart\n",
    "plt.figure(figsize=[8, 5]);\n",
    "sb.countplot(data = df, x = 'start_time_dayofweek', color='#27496d', order = days_order);\n",
    "plt.xticks(rotation=20);"
   ]
  },
  {
   "cell_type": "markdown",
   "metadata": {},
   "source": [
    "What a nice surprise! This just prove my theory that people use bikes to go their works. This theory will take more weight with the next exploration.\n",
    "\n",
    "#### Hour\n",
    "\n",
    "Let's discover what is the rush hour for Bay Wheels:"
   ]
  },
  {
   "cell_type": "code",
   "execution_count": 228,
   "metadata": {},
   "outputs": [
    {
     "data": {
      "image/png": "[encoded data removed]",
      "text/plain": [
       "<Figure size 576x360 with 1 Axes>"
      ]
     },
     "metadata": {
      "needs_background": "light"
     },
     "output_type": "display_data"
    }
   ],
   "source": [
    "#Plot the chart\n",
    "plt.figure(figsize=[8, 5]);\n",
    "sb.countplot(data = df, x = 'start_time_hour', color='#27496d');"
   ]
  },
  {
   "cell_type": "markdown",
   "metadata": {},
   "source": [
    "This analysis is takin form. San Francisco's people is moving to their jobs in bike! The chart shows that there are 2 rush hours for the start of a trip. The first one is around 8am, the second one is around 5pm. Those hours make sense to  the hour of start and finish for a work journal. It's also interesting to see that we have activity for less concurrency hours, that means that Bay Wheels give a 24 hours service, which could be a great for a slogan like \"Every time you need it, you get it!\""
   ]
  },
  {
   "cell_type": "markdown",
   "metadata": {},
   "source": [
    "#### User Type\n",
    "\n",
    "Before finish the univariable part, let's take a look for distribution of user types of the service:"
   ]
  },
  {
   "cell_type": "code",
   "execution_count": 229,
   "metadata": {},
   "outputs": [
    {
     "data": {
      "image/png": "[encoded data removed]",
      "text/plain": [
       "<Figure size 576x360 with 1 Axes>"
      ]
     },
     "metadata": {},
     "output_type": "display_data"
    }
   ],
   "source": [
    "#Get the pieces values\n",
    "pieces = df.user_type.value_counts()\n",
    "#Define palette\n",
    "colors = ['#27496d','#00909e']\n",
    "#Plot the chart\n",
    "plt.figure(figsize=[8, 5]);\n",
    "plt.pie(pieces, labels = pieces.index, startangle = 90, counterclock = False, wedgeprops = {'width' : 0.4}, colors = colors);\n",
    "plt.axis('square');"
   ]
  },
  {
   "cell_type": "markdown",
   "metadata": {},
   "source": [
    "Subscribers use the service more than casual users. And this have sense. The [pricing](https://www.lyft.com/bikes/bay-wheels/pricing) for the service is really afordable. If people use the service to go their works, getting a subscription could be a great option to save money, save time, and save the world!"
   ]
  },
  {
   "cell_type": "markdown",
   "metadata": {},
   "source": [
    "### Discuss the distribution(s) of your variable(s) of interest. Were there any unusual points? Did you need to perform any transformations?\n",
    "\n",
    "> Distributions for Trips Durations resulted to be normal distributed between 100 and 3000 seconds with a log scale. I found some outliers for trips higher than 45 minutes, so I decided to drop them before to continue with the rest of the analysis.\n",
    "<br>\n",
    "A change to make in the dataset that I found, is about the Day of Week and Month. It could be better to transform this into a categorical column, to preserve the order of the days and months in every chart htat use this variable."
   ]
  },
  {
   "cell_type": "code",
   "execution_count": 252,
   "metadata": {},
   "outputs": [
    {
     "name": "stderr",
     "output_type": "stream",
     "text": [
      "C:\\Users\\Carcac01\\Anaconda3\\lib\\site-packages\\ipykernel_launcher.py:2: SettingWithCopyWarning: \n",
      "A value is trying to be set on a copy of a slice from a DataFrame.\n",
      "Try using .loc[row_indexer,col_indexer] = value instead\n",
      "\n",
      "See the caveats in the documentation: https://pandas.pydata.org/pandas-docs/stable/user_guide/indexing.html#returning-a-view-versus-a-copy\n",
      "  \n",
      "C:\\Users\\Carcac01\\Anaconda3\\lib\\site-packages\\ipykernel_launcher.py:6: SettingWithCopyWarning: \n",
      "A value is trying to be set on a copy of a slice from a DataFrame.\n",
      "Try using .loc[row_indexer,col_indexer] = value instead\n",
      "\n",
      "See the caveats in the documentation: https://pandas.pydata.org/pandas-docs/stable/user_guide/indexing.html#returning-a-view-versus-a-copy\n",
      "  \n"
     ]
    }
   ],
   "source": [
    "#Transform Days of Week into a Category\n",
    "cat_dtype = pd.api.types.CategoricalDtype(categories=days_order, ordered=True)\n",
    "df['start_time_dayofweek'] = df['start_time_dayofweek'].astype(cat_dtype)\n",
    "\n",
    "#Transfom Months into a Category\n",
    "months = ['January','February','March','April','May','June','July','August','September','October','November','December']\n",
    "cat_dtype = pd.api.types.CategoricalDtype(categories=months, ordered=True)\n",
    "df['start_time_month_name'] = df['start_time_month_name'].astype(cat_dtype)"
   ]
  },
  {
   "cell_type": "markdown",
   "metadata": {},
   "source": [
    "### Of the features you investigated, were there any unusual distributions? Did you perform any operations on the data to tidy, adjust, or change the form of the data? If so, why did you do this?\n",
    "\n",
    "> Nothing unusual at the moment."
   ]
  },
  {
   "cell_type": "markdown",
   "metadata": {},
   "source": [
    "## Bivariate Exploration\n",
    "\n",
    "It's time to compare variables. After the Univariate explorations, I could see that people maybe use the Bay Wheels service as a transportation to their works. I will try to reinforce this idea so, let's start with bivariations.\n",
    "\n",
    "#### Day of Week vs Hour\n",
    "\n",
    "In te prior section, we discovered that weekdays have more activity that weekends. This reinforce my idea of people use the service to get to their works. So, let's see on which part of the day the service is more demanded by day:"
   ]
  },
  {
   "cell_type": "code",
   "execution_count": 235,
   "metadata": {
    "scrolled": true
   },
   "outputs": [
    {
     "data": {
      "image/png": "[encoded data removed]",
      "text/plain": [
       "<Figure size 576x360 with 2 Axes>"
      ]
     },
     "metadata": {
      "needs_background": "light"
     },
     "output_type": "display_data"
    }
   ],
   "source": [
    "#Get trip by Day and Hour\n",
    "ct_counts = df.groupby(['start_time_dayofweek', 'start_time_hour']).size()\n",
    "ct_counts = ct_counts.reset_index(name='count')\n",
    "ct_counts = ct_counts.pivot(index = 'start_time_dayofweek', columns = 'start_time_hour', values = 'count')\n",
    "\n",
    "#Plot the chart\n",
    "plt.figure(figsize=[8, 5]);\n",
    "sb.heatmap(ct_counts, cmap='YlGnBu');"
   ]
  },
  {
   "cell_type": "markdown",
   "metadata": {},
   "source": [
    "Alright! The chart shows perfectly the relation between Day of Week and Hour. In previous lesson, we discovered that 8am and 5pm are the rush hours for the bikes rent. This tendency stays for all the weekdays. This demostrate that San Franciscans prefer use Bay Wheels to go to work. Actually, for weekends we see that the greater concentration of trips is between 11am and 5pm. This is probably for leisure purposes.\n",
    "\n",
    "#### Day of Week vs User Type\n",
    "\n",
    "Now, let's see distribution of subscribers and casual customers against days"
   ]
  },
  {
   "cell_type": "code",
   "execution_count": 236,
   "metadata": {
    "scrolled": true
   },
   "outputs": [
    {
     "data": {
      "image/png": "[encoded data removed]",
      "text/plain": [
       "<Figure size 576x360 with 1 Axes>"
      ]
     },
     "metadata": {
      "needs_background": "light"
     },
     "output_type": "display_data"
    }
   ],
   "source": [
    "#Plot the chart\n",
    "plt.figure(figsize=[8, 5]);\n",
    "sb.countplot(data = df, x = 'start_time_dayofweek', hue = 'user_type', palette=colors);\n",
    "plt.xticks(rotation=20);"
   ]
  },
  {
   "cell_type": "markdown",
   "metadata": {},
   "source": [
    "This visualization add more value to my analysis. As you can see, for weekends the amount of trips decrease considerably. This can lead us to think that most of workers are resting on weekends, so the won't need to use the bikes. The number of trips for casual users seems to be kind of constant, with a little increase for weekends. These can be product of the use of bikes for leisure or tourism purposes."
   ]
  },
  {
   "cell_type": "markdown",
   "metadata": {},
   "source": [
    "#### Trip Duration vs Day of Week\n",
    "\n",
    "Let's check variations on durations by day:"
   ]
  },
  {
   "cell_type": "code",
   "execution_count": 256,
   "metadata": {},
   "outputs": [
    {
     "data": {
      "image/png": "[encoded data removed]",
      "text/plain": [
       "<Figure size 576x504 with 1 Axes>"
      ]
     },
     "metadata": {
      "needs_background": "light"
     },
     "output_type": "display_data"
    }
   ],
   "source": [
    "#Define the palette\n",
    "palette = ['#00909e']\n",
    "#Plot the chart\n",
    "plt.figure(figsize=[8, 7]);\n",
    "sb.boxplot(data = df, x = 'start_time_dayofweek', y = 'duration_sec', palette = palette);"
   ]
  },
  {
   "cell_type": "markdown",
   "metadata": {},
   "source": [
    "This chart is giving me a great insight. Longer trips are on weekends. Remember the heat map? The rush hour for weekdays is bimodal, distributed between 8am and 5pm, but for weekends is more spreaded, between 11am and 5pm. This is a complementary information to confirm that weekends have longer trips probably, as a response of free time from people in the city.\n",
    "\n",
    "#### Trips vs Month\n",
    "\n",
    "To finish this section, let's discover the trend by month of trips:"
   ]
  },
  {
   "cell_type": "code",
   "execution_count": 259,
   "metadata": {},
   "outputs": [
    {
     "data": {
      "image/png": "[encoded data removed]",
      "text/plain": [
       "<Figure size 576x360 with 1 Axes>"
      ]
     },
     "metadata": {
      "needs_background": "light"
     },
     "output_type": "display_data"
    }
   ],
   "source": [
    "#Get total trips per month\n",
    "df_months = df.groupby('start_time_month_name')['trips'].sum()\n",
    "#Plot the chart\n",
    "plt.figure(figsize=[8, 5]);\n",
    "plt.plot(df_months.index, df_months);\n",
    "plt.xticks(rotation=30);"
   ]
  },
  {
   "cell_type": "markdown",
   "metadata": {},
   "source": [
    "This chart, reinforce the idea. People used to rest for spring and summer. In these seasons, a lot of people use to travel, leaving the city (even the country) and obviously stop working a couple of days. The same thing happens for November and December, to Thanksgiving and Christmas."
   ]
  },
  {
   "cell_type": "markdown",
   "metadata": {},
   "source": [
    "### Talk about some of the relationships you observed in this part of the investigation. How did the feature(s) of interest vary with other features in the dataset?\n",
    "\n",
    "> Yes, and all of them reinforce the initial idea that people use bike to get their works\n",
    "\n",
    "### Did you observe any interesting relationships between the other features (not the main feature(s) of interest)?\n",
    "\n",
    "> Yes, between Months and Trips"
   ]
  },
  {
   "cell_type": "markdown",
   "metadata": {},
   "source": [
    "## Multivariate Exploration\n",
    "\n",
    "At final check, let's see some multivariate charts.\n",
    "\n",
    "#### Trip Duration vs Hour vs Day of Week\n",
    "\n",
    "Probaby the 3 most importat variables I found in this exploratory analysis, I will relationate them in one chart:"
   ]
  },
  {
   "cell_type": "code",
   "execution_count": 267,
   "metadata": {},
   "outputs": [
    {
     "data": {
      "image/png": "[encoded data removed]",
      "text/plain": [
       "<Figure size 576x360 with 2 Axes>"
      ]
     },
     "metadata": {
      "needs_background": "light"
     },
     "output_type": "display_data"
    }
   ],
   "source": [
    "#Get trip duration mean by day and hour\n",
    "ct_counts = df.groupby(['start_time_dayofweek', 'start_time_hour'])['duration_sec'].mean()\n",
    "ct_counts = ct_counts.reset_index(name='mean')\n",
    "ct_counts = ct_counts.pivot(index = 'start_time_dayofweek', columns = 'start_time_hour', values = 'mean')\n",
    "\n",
    "#Plot the chart\n",
    "plt.figure(figsize=[8, 5]);\n",
    "sb.heatmap(ct_counts, cmap='YlGnBu');\n"
   ]
  },
  {
   "cell_type": "markdown",
   "metadata": {},
   "source": [
    "I will consider this chart as the finish of my exploratory analysis, because this is finished to reinforce the idea of San Franciscans use Bay Wheels as a transportation for their works. This chart shows mean duration os trips per day per hour. The longer trips are executed on weekends, when people don't have a deadline hour to be present at the office. Also,, something really intersting appeared at 8am for weekdays, the mean duration seems to be the same as the mean duration for the entire dataset, around 670secs. This can lead to say than people tend to go to work between 8 and 9 am.\n",
    "\n",
    "#### Trips per Stations\n",
    "\n",
    "Let's have some insights about San Francisco Bay, which is the more popular zone to live? which is the most popular zone to work? Now, that I have discovered that people use Bay Wheels to go work between 8 and 9pm on weekdays I can have the most popular stations. The start station is related to people houses, and the end station is related to work office. Let's see:\n",
    "\n",
    "First I will create a subset of date with data of \"workforce\", it means, people that use bikes to go from their homes to their offices:"
   ]
  },
  {
   "cell_type": "code",
   "execution_count": 325,
   "metadata": {},
   "outputs": [
    {
     "data": {
      "image/png": "[encoded data removed]",
      "text/plain": [
       "<Figure size 1080x1008 with 2 Axes>"
      ]
     },
     "metadata": {
      "needs_background": "light"
     },
     "output_type": "display_data"
    }
   ],
   "source": [
    "#Get trips from weekdays\n",
    "df_workforce = df.loc[~df['start_time_dayofweek'].isin(['Saturday','Sunday'])]\n",
    "#Filter trips with duration near to the mean, between 650 and 750 secs\n",
    "df_workforce = df.loc[(df['duration_sec'] >= 650) & (df['duration_sec'] <= 750)]\n",
    "#Filter trips started between 7 and 9 am\n",
    "df_workforce = df.loc[(df['start_time_hour'] >= 7) & (df['start_time_hour'] <= 9)]\n",
    "#Get top 10\n",
    "df_workforce_start = df.groupby('start_station_name')['trips'].sum().nlargest(10)\n",
    "df_workforce_start = df_workforce_start.reset_index(name='count')\n",
    "df_workforce_start = df_workforce.loc[df['start_station_name'].isin(df_workforce_start.start_station_name)]\n",
    "df_workforce_end = df.groupby('end_station_name')['trips'].sum().nlargest(10)\n",
    "df_workforce_end = df_workforce_end.reset_index(name='count')\n",
    "df_workforce_end = df_workforce.loc[df['end_station_name'].isin(df_workforce_end.end_station_name)]\n",
    "\n",
    "#Plot the chart\n",
    "plt.figure(figsize = [15, 14]);\n",
    "#First subplot\n",
    "plt.subplot(2, 1, 1)\n",
    "sb.countplot(data = df_workforce_start, y = 'start_station_name', color='#27496d', order=df_workforce_start['start_station_name'].value_counts().index);\n",
    "#Second subplot\n",
    "plt.subplot(2, 1, 2)\n",
    "sb.countplot(data = df_workforce_end, y = 'end_station_name', color='#00909e', order=df_workforce_end['end_station_name'].value_counts().index);"
   ]
  },
  {
   "cell_type": "markdown",
   "metadata": {},
   "source": [
    "### Talk about some of the relationships you observed in this part of the investigation. Were there features that strengthened each other in terms of looking at your feature(s) of interest?\n",
    "\n",
    "> Number of Trips, Trip Duration, Day of Week and Hour\n",
    "\n",
    "### Were there any interesting or surprising interactions between features?\n",
    "\n",
    "> Have the mean of entire dataset in the 8am section of heatmap what the most surprising thing for the entire analysis for me."
   ]
  }
 ],
 "metadata": {
  "kernelspec": {
   "display_name": "Python 3",
   "language": "python",
   "name": "python3"
  },
  "language_info": {
   "codemirror_mode": {
    "name": "ipython",
    "version": 3
   },
   "file_extension": ".py",
   "mimetype": "text/x-python",
   "name": "python",
   "nbconvert_exporter": "python",
   "pygments_lexer": "ipython3",
   "version": "3.7.7"
  }
 },
 "nbformat": 4,
 "nbformat_minor": 2
}
